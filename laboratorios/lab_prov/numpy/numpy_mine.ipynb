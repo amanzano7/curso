{
 "cells": [
  {
   "cell_type": "markdown",
   "id": "7a208790-3af6-429b-ad68-577a8847811b",
   "metadata": {},
   "source": [
    "# Business Challenge: Forex Data Analysis Challenge\n",
    "\n",
    "En este ejercicio, nos embarcaremos en un desafío de análisis de datos de Forex, simulando \n",
    "un escenario donde necesitas analizar datos históricos de tasas de cambio extranjero \n",
    "(Forex) para un par de divisas. Se te ha proporcionado un conjunto de datos que contiene \n",
    "tasas de Forex diarias para un par de divisas específico durante un mes. Tu objetivo es \n",
    "aprovechar NumPy para extraer valiosas percepciones de estos datos financieros.\n",
    "\n",
    "### Descripción del Dataset\n",
    "\n",
    "El conjunto de datos comprende tres arrays de NumPy:\n",
    "- `dates`: Un array que contiene valores de fecha que representan cada día de negociación del mes.\n",
    "```python\n",
    "dates = np.array(['2023-10-01', '2023-10-02', '2023-10-03', '2023-10-04', \n",
    "                  '2023-10-05', '2023-10-06', '2023-10-07', '2023-10-08', \n",
    "                  '2023-10-09', '2023-10-10', '2023-10-11', '2023-10-12', \n",
    "                  '2023-10-13', '2023-10-14', '2023-10-15', '2023-10-16', \n",
    "                  '2023-10-17', '2023-10-18', '2023-10-19', '2023-10-20', \n",
    "                  '2023-10-21', '2023-10-22', '2023-10-23', '2023-10-24', \n",
    "                  '2023-10-25', '2023-10-26', '2023-10-27', '2023-10-28', \n",
    "                  '2023-10-29', '2023-10-30', '2023-10-31'])\n",
    "```\n",
    "\n",
    "- `exchange_rates`: Un array de valores de tasas de cambio para un par de divisas específico \n",
    "correspondiente a cada fecha.\n",
    "```python\n",
    "exchange_rates = np.array([1.10, 1.12, 1.15, 1.11, 1.14, 1.13, 1.10, 1.12, \n",
    "                            1.13, 1.11, 1.15, 1.16, 1.18, 1.20, 1.19, 1.17, \n",
    "                            1.16, 1.14, 1.12, 1.13, 1.11, 1.10, 1.12, 1.13, \n",
    "                            1.14, 1.15, 1.11, 1.10, 1.08, 1.09, 1.11, 1.13])\n",
    "```\n",
    "\n",
    "- `trade_volumes`: Un array que representa los volúmenes de negociación para cada día de negociación.\n",
    "```python\n",
    "trade_volumes = np.array([1000, 1200, 1100, 1300, 1500, 1400, 1600, 1700, \n",
    "                          1800, 1900, 2100, 2200, 2000, 2300, 2400, 2500, \n",
    "                          2600, 2700, 2800, 2900, 3000, 3100, 3200, 3300, \n",
    "                          3400, 3500, 3600, 3700, 3800, 3900, 4000, 4100, \n",
    "                          4200])\n",
    "```\n",
    "\n",
    "- `external_variable`: Un array que representa un índice económico (por ejemplo, el índice de precios al consumidor) \n",
    "que puede ser utilizado para calcular la correlación.\n",
    "```python\n",
    "external_variable = np.array([102, 103, 101, 104, 105, 106, 107, 108, \n",
    "                              109, 110, 111, 112, 113, 114, 115, 116, \n",
    "                              117, 118, 119, 120, 121, 122, 123, 124, \n",
    "                              125, 126, 127, 128, 129, 130, 131, 132, \n",
    "                              133])\n",
    "```\n",
    "\n",
    "Tus tareas involucrarán:\n",
    "\n",
    "1. Calcular la tasa de cambio promedio para todo el mes.\n",
    "2. Identificar la fecha con la tasa de cambio más alta.\n",
    "3. Determinar el volumen total de negociación para el mes.\n",
    "4. Calcular la tasa de cambio mínima y máxima del mes.\n",
    "5. Determinar la volatilidad diaria de las tasas de cambio (diferencias entre días consecutivos).\n",
    "6. Graficar la evolución de las tasas de cambio a lo largo del mes.\n",
    "7. Comparar el rendimiento de las tasas de cambio en la primera y última semana del mes.\n",
    "8. Calcular la correlación de las tasas de cambio con respecto a una variable externa (por ejemplo, un índice económico).\n",
    "9. Determinar el número de días en los que la tasa de cambio superó un valor específico (por ejemplo, 1.15).\n",
    "10. Crear un resumen estadístico que incluya la media, mediana y desviación estándar de las tasas de cambio.\n",
    "\n",
    "Al final de este ejercicio, ganarás experiencia práctica en el uso de NumPy para el \n",
    "análisis de datos financieros, una habilidad valiosa para profesionales en el mundo del \n",
    "trading de Forex y las finanzas.\n",
    "\n",
    "¡Comencemos calculando la tasa de cambio promedio para todo el mes!\n",
    "\n",
    "**¡Pista!**: Revisa la documentación [aquí](https://numpy.org/doc/stable/reference/routines.html).\n"
   ]
  },
  {
   "cell_type": "code",
   "execution_count": 151,
   "id": "1f90d398-42ab-4275-8052-0dd8021f669a",
   "metadata": {},
   "outputs": [],
   "source": [
    "import numpy as np\n",
    "\n",
    "dates = np.array(['2023-10-01', '2023-10-02', '2023-10-03', '2023-10-04', \n",
    "                  '2023-10-05', '2023-10-06', '2023-10-07', '2023-10-08', \n",
    "                  '2023-10-09', '2023-10-10', '2023-10-11', '2023-10-12', \n",
    "                  '2023-10-13', '2023-10-14', '2023-10-15', '2023-10-16', \n",
    "                  '2023-10-17', '2023-10-18', '2023-10-19', '2023-10-20', \n",
    "                  '2023-10-21', '2023-10-22', '2023-10-23', '2023-10-24', \n",
    "                  '2023-10-25', '2023-10-26', '2023-10-27', '2023-10-28', \n",
    "                  '2023-10-29', '2023-10-30', '2023-10-31'])\n",
    "\n",
    "exchange_rates = np.array([1.10, 1.12, 1.15, 1.11, 1.14, 1.13, 1.10, 1.12, \n",
    "                            1.13, 1.11, 1.15, 1.16, 1.18, 1.20, 1.19, 1.17, \n",
    "                            1.16, 1.14, 1.12, 1.13, 1.11, 1.10, 1.12, 1.13, \n",
    "                            1.14, 1.15, 1.11, 1.10, 1.08, 1.09, 1.11, 1.13])\n",
    "\n",
    "trade_volumes = np.array([1000, 1200, 1100, 1300, 1500, 1400, 1600, 1700, \n",
    "                          1800, 1900, 2100, 2200, 2000, 2300, 2400, 2500, \n",
    "                          2600, 2700, 2800, 2900, 3000, 3100, 3200, 3300, \n",
    "                          3400, 3500, 3600, 3700, 3800, 3900, 4000, 4100, \n",
    "                          4200])\n",
    "\n",
    "external_variable = np.array([102, 103, 101, 104, 105, 106, 107, 108, \n",
    "                              109, 110, 111, 112, 113, 114, 115, 116, \n",
    "                              117, 118, 119, 120, 121, 122, 123, 124, \n",
    "                              125, 126, 127, 128, 129, 130, 131, 132, \n",
    "                              133])\n",
    "\n",
    "\n",
    "\n",
    "\n",
    "\n"
   ]
  },
  {
   "cell_type": "code",
   "execution_count": 152,
   "id": "c4dab6d6-f92b-4201-9042-61210bb8391a",
   "metadata": {},
   "outputs": [
    {
     "name": "stdout",
     "output_type": "stream",
     "text": [
      "31\n",
      "31\n",
      "31\n",
      "31\n"
     ]
    }
   ],
   "source": [
    "# hay datos faltantes. Se puede quitar los datos o bien rellenar con datos ficticios. Quito datos\n",
    "\n",
    "min_length = min(len(dates), len(exchange_rates), len(trade_volumes), len(external_variable))\n",
    "\n",
    "dates = dates[:min_length]\n",
    "exchange_rates = exchange_rates[:min_length]\n",
    "trade_volumes = trade_volumes[:min_length]\n",
    "external_variable = external_variable[:min_length]\n",
    "\n",
    "print(len(dates))\n",
    "print(len(exchange_rates))\n",
    "print(len(trade_volumes))\n",
    "print(len(external_variable))"
   ]
  },
  {
   "cell_type": "code",
   "execution_count": 153,
   "id": "53087793-4122-489e-bc4c-ce0e71dd8baf",
   "metadata": {},
   "outputs": [
    {
     "name": "stdout",
     "output_type": "stream",
     "text": [
      "La tasa de cambio promedio para el mes es: 1.1306451612903228\n"
     ]
    }
   ],
   "source": [
    "# Calcular el promedio de las tasas de cambio\n",
    "average_exchange_rate = np.mean(exchange_rates)\n",
    "# Imprimir el resultado\n",
    "print(f\"La tasa de cambio promedio para el mes es: {average_exchange_rate}\")"
   ]
  },
  {
   "cell_type": "code",
   "execution_count": 154,
   "id": "82b20825-ba64-4405-80f2-81deed3ac767",
   "metadata": {},
   "outputs": [
    {
     "name": "stdout",
     "output_type": "stream",
     "text": [
      "La tasa de cambio más alta es 1.2 y ocurrió el 2023-10-14.\n"
     ]
    }
   ],
   "source": [
    "# Encontrar el índice de la tasa de cambio más alta\n",
    "max_index = np.argmax(exchange_rates)\n",
    "\n",
    "# Obtener la fecha correspondiente\n",
    "max_date = dates[max_index]\n",
    "max_rate = exchange_rates[max_index]\n",
    "\n",
    "# Imprimir los resultados\n",
    "print(f\"La tasa de cambio más alta es {max_rate} y ocurrió el {max_date}.\")"
   ]
  },
  {
   "cell_type": "code",
   "execution_count": 155,
   "id": "f8df5e36-a40d-4b0e-abc5-19e66d3f7376",
   "metadata": {},
   "outputs": [
    {
     "name": "stdout",
     "output_type": "stream",
     "text": [
      "El volumen total de negociación para el mes es: 77500\n"
     ]
    }
   ],
   "source": [
    "# Calcular el volumen total de negociación para el mes\n",
    "total_trade_volume = np.sum(trade_volumes)\n",
    "\n",
    "# Imprimir el resultado\n",
    "print(f\"El volumen total de negociación para el mes es: {total_trade_volume}\")"
   ]
  },
  {
   "cell_type": "code",
   "execution_count": 156,
   "id": "6c7462c9-c2e7-4c62-a1e7-2a437c81f165",
   "metadata": {},
   "outputs": [
    {
     "name": "stdout",
     "output_type": "stream",
     "text": [
      "La tasa de cambio más alta es 1.2 y la minima 1.08.\n"
     ]
    }
   ],
   "source": [
    "# Encontrar el índice de la tasa de cambio más alta\n",
    "max_index = np.argmax(exchange_rates)\n",
    "min_index = np.argmin(exchange_rates)\n",
    "\n",
    "# Obtener la fecha correspondiente\n",
    "max_rate = exchange_rates[max_index]\n",
    "min_rate = exchange_rates[min_index]\n",
    "\n",
    "# Imprimir los resultados\n",
    "print(f\"La tasa de cambio más alta es {max_rate} y la minima {min_rate:}.\")"
   ]
  },
  {
   "cell_type": "code",
   "execution_count": 157,
   "id": "6d852cf9-469f-428a-9531-c6eb715c68ca",
   "metadata": {},
   "outputs": [
    {
     "name": "stdout",
     "output_type": "stream",
     "text": [
      "Volatilidad diaria de las tasas de cambio:\n",
      "[ 0.02  0.03 -0.04  0.03 -0.01 -0.03  0.02  0.01 -0.02  0.04  0.01  0.02\n",
      "  0.02 -0.01 -0.02 -0.01 -0.02 -0.02  0.01 -0.02 -0.01  0.02  0.01  0.01\n",
      "  0.01 -0.04 -0.01 -0.02  0.01  0.02]\n"
     ]
    }
   ],
   "source": [
    "# Encontrar volatilidad diaria\n",
    "daily_volatility = np.diff (exchange_rates) #diff diferencias consecutivas\n",
    "\n",
    "# Imprimir la volatilidad diaria\n",
    "print(\"Volatilidad diaria de las tasas de cambio:\")\n",
    "print(daily_volatility)"
   ]
  },
  {
   "cell_type": "code",
   "execution_count": 158,
   "id": "6b6c1abf-ab90-41e4-a29e-c95d04280a2b",
   "metadata": {},
   "outputs": [
    {
     "data": {
      "image/png": "[encoded data removed]",
      "text/plain": [
       "<Figure size 1000x500 with 1 Axes>"
      ]
     },
     "metadata": {},
     "output_type": "display_data"
    }
   ],
   "source": [
    "import matplotlib.pyplot as plt\n",
    "\n",
    "# Crear una figura y un eje\n",
    "plt.figure(figsize=(10, 5))\n",
    "\n",
    "# Graficar las tasas de cambio a lo largo del mes\n",
    "plt.xticks(rotation=90)\n",
    "plt.plot(dates, exchange_rates)\n",
    "plt.xlabel\n",
    "# Mostrar el gráfico\n",
    "plt.show()"
   ]
  },
  {
   "cell_type": "code",
   "execution_count": 163,
   "id": "87f3a407-dc6d-464c-97cf-b3de3abe899f",
   "metadata": {},
   "outputs": [
    {
     "name": "stdout",
     "output_type": "stream",
     "text": [
      "1.1214285714285714\n",
      "1.1333333333333333\n"
     ]
    }
   ],
   "source": [
    "# Promedio de las exchange rates W1 y W4\n",
    "\n",
    "average_exchange_rate_W1 = np.mean(exchange_rates[:7])\n",
    "average_exchange_rate_W4 = np.mean(exchange_rates[7:])\n",
    "\n",
    "print(average_exchange_rate_W1)\n",
    "print(average_exchange_rate_W4)\n"
   ]
  },
  {
   "cell_type": "code",
   "execution_count": null,
   "id": "8c497355-b6be-4261-ae97-1ba1d7980d5b",
   "metadata": {},
   "outputs": [],
   "source": [
    "np.corr"
   ]
  },
  {
   "cell_type": "markdown",
   "id": "ee532aa9-7d5d-40a3-93a4-2743738f5a98",
   "metadata": {},
   "source": [
    "## Business Challenge: E-commerce Customer Data Analysis\n",
    "\n",
    "Trabajas para una empresa de comercio electrónico, y tu gerente te ha pedido analizar \n",
    "los datos de los clientes para obtener insights sobre el comportamiento de los clientes. \n",
    "Tu tarea es calcular algunas métricas clave y generar informes basados en los datos \n",
    "proporcionados.\n",
    "\n",
    "### Datos de Clientes\n",
    "\n",
    "Se te proporciona un array de NumPy llamado `customer_data`, que contiene información \n",
    "sobre cada cliente. Cada fila en el array representa a un cliente, y las columnas \n",
    "contienen la siguiente información:\n",
    "\n",
    "1. ID del Cliente\n",
    "2. Total de Pedidos Realizados\n",
    "3. Total Gastado (en dólares)\n",
    "4. Días Desde la Última Compra\n",
    "5. Suscrito al Correo Electrónico (1 para suscrito, 0 para no suscrito)\n",
    "\n",
    "Aquí tienes un ejemplo de cómo podría verse el array `customer_data` con 30 registros:\n",
    "\n",
    "```python\n",
    "import numpy as np\n",
    "\n",
    "customer_data = np.array([\n",
    "    [1, 5, 500, 10, 1],\n",
    "    [2, 3, 300, 20, 1],\n",
    "    [3, 2, 200, 30, 0],\n",
    "    [4, 7, 700, 5, 1],\n",
    "    [5, 4, 400, 15, 1],\n",
    "    [6, 1, 100, 40, 0],\n",
    "    [7, 8, 800, 2, 1],\n",
    "    [8, 6, 600, 25, 0],\n",
    "    [9, 5, 500, 50, 1],\n",
    "    [10, 3, 300, 35, 1],\n",
    "    [11, 0, 0, 60, 0],\n",
    "    [12, 9, 900, 1, 1],\n",
    "    [13, 4, 400, 12, 1],\n",
    "    [14, 2, 200, 18, 0],\n",
    "    [15, 10, 1000, 0, 1],\n",
    "    [16, 1, 100, 29, 0],\n",
    "    [17, 3, 300, 22, 1],\n",
    "    [18, 5, 500, 14, 1],\n",
    "    [19, 6, 600, 10, 1],\n",
    "    [20, 4, 400, 30, 0],\n",
    "    [21, 7, 700, 4, 1],\n",
    "    [22, 8, 800, 3, 1],\n",
    "    [23, 0, 0, 50, 0],\n",
    "    [24, 2, 200, 45, 1],\n",
    "    [25, 9, 900, 2, 1],\n",
    "    [26, 1, 100, 33, 0],\n",
    "    [27, 6, 600, 7, 1],\n",
    "    [28, 3, 300, 17, 1],\n",
    "    [29, 4, 400, 28, 0],\n",
    "    [30, 5, 500, 19, 1]\n",
    "])\n",
    "```\n",
    "\n",
    "Tu objetivo es crear un conjunto de funciones para analizar estos datos y generar \n",
    "informes para tu gerente.\n",
    "\n",
    "### Funciones a Implementar\n",
    "\n",
    "Necesitas implementar las siguientes funciones:\n",
    "\n",
    "1. **`average_order_value(data)`**: Calcular el valor promedio de pedido (AOV) para \n",
    "todos los clientes. El AOV se calcula como el total gastado dividido por el total de pedidos.\n",
    "\n",
    "2. **`customer_lifetime_value(data)`**: Calcular el valor de vida útil del cliente \n",
    "(CLV) para cada cliente. El CLV se calcula como el producto del valor promedio de pedido \n",
    "y el número de días desde la última compra.\n",
    "\n",
    "3. **`high_value_customers(data, threshold)`**: Identificar a los clientes de alto \n",
    "valor cuyo CLV excede un umbral dado.\n",
    "\n",
    "4. **`email_subscription_rate(data)`**: Calcular la tasa de suscripción al correo \n",
    "electrónico, que es el porcentaje de clientes que se han suscrito a los correos electrónicos.\n",
    "\n",
    "5. **`inactive_customers(data, days)`**: Identificar a los clientes que no han \n",
    "realizado una compra en un número específico de días.\n",
    "\n",
    "### Actividades Adicionales\n",
    "\n",
    "Además de las funciones anteriores, se te pide realizar las siguientes tareas:\n",
    "\n",
    "6. **`most_frequent_customers(data)`**: Identificar a los clientes que han realizado \n",
    "la mayor cantidad de pedidos. Esto puede ayudar a centrar las estrategias de marketing \n",
    "en los clientes más activos.\n",
    "\n",
    "7. **`total_revenue(data)`**: Calcular el ingreso total generado por todos los clientes \n",
    "durante el período analizado.\n",
    "\n",
    "8. **`average_days_since_last_purchase(data)`**: Calcular el promedio de días \n",
    "desde la última compra para todos los clientes. Esto puede indicar la lealtad y \n",
    "satisfacción del cliente.\n",
    "\n",
    "9. **`customer_retention_rate(data)`**: Calcular la tasa de retención de clientes, \n",
    "que es el porcentaje de clientes que han realizado más de un pedido en comparación \n",
    "con el total de clientes.\n",
    "\n",
    "10. **`top_spenders(data, n)`**: Identificar a los `n` principales clientes que han \n",
    "gastado más dinero en total. Esto puede ser útil para estrategias de marketing dirigidas.\n",
    "\n",
    "### Instrucciones\n",
    "\n",
    "Se te proporciona un array de NumPy llamado `customer_data` que contiene información \n",
    "del cliente. Tu tarea es implementar las funciones mencionadas anteriormente para realizar \n",
    "las siguientes tareas:\n",
    "\n",
    "- Calcular el valor promedio de pedido (AOV) para todos los clientes.\n",
    "\n",
    "- Calcular el valor de vida útil del cliente (CLV) para cada cliente.\n",
    "\n",
    "- Identificar a los clientes de alto valor cuyo CLV excede un umbral dado. (Toma 300 como umbral)\n",
    "\n",
    "- Calcular la tasa de suscripción al correo electrónico.\n",
    "\n",
    "- Identificar a los clientes que no han realizado una compra en un número específico de días. (Toma 30 días)\n",
    "\n",
    "- Identificar a los clientes que han realizado la mayor cantidad de pedidos.\n",
    "\n",
    "- Calcular el ingreso total generado por todos los clientes.\n",
    "\n",
    "- Calcular el promedio de días desde la última compra.\n",
    "\n",
    "- Calcular la tasa de retención de clientes.\n",
    "\n",
    "- Identificar a los `n` principales clientes que han gastado más dinero.\n",
    "\n",
    "\n",
    "\n",
    "Debes probar tus funciones con los datos proporcionados y mostrar los resultados de \n",
    "manera clara y concisa.\n",
    "\n",
    "---"
   ]
  }
 ],
 "metadata": {
  "kernelspec": {
   "display_name": "Python 3 (ipykernel)",
   "language": "python",
   "name": "python3"
  },
  "language_info": {
   "codemirror_mode": {
    "name": "ipython",
    "version": 3
   },
   "file_extension": ".py",
   "mimetype": "text/x-python",
   "name": "python",
   "nbconvert_exporter": "python",
   "pygments_lexer": "ipython3",
   "version": "3.12.4"
  }
 },
 "nbformat": 4,
 "nbformat_minor": 5
}
