{
 "cells": [
  {
   "cell_type": "markdown",
   "id": "81ba11cf-d829-430b-9b4c-d7c60c3fe701",
   "metadata": {},
   "source": [
    "# Instrucciones para Resolver Sistemas Ax=b y By=b\n",
    "\n",
    "Se te proporciona una serie de tablas en la cual la última columna corresponde a un elemento conocido como **etiqueta**, y el resto de columnas se conoce como **características**. Tu tarea es llevar a cabo los siguientes pasos **sin el uso de funciones definidas (`def`)**, para que te familiarices con lo que sucede detrás al usar herramientas como scikit-learn de Python:\n",
    "\n",
    "### 1. Descomponer las tablas\n",
    "Descompón las tablas en:\n",
    "- **Matriz A:** que contiene todas las características.\n",
    "- **Vector b:** que contiene las etiquetas.\n",
    "\n",
    "### 2. Generar la Matriz Ampliada B\n",
    "Genera una matriz ampliada **B** añadiendo una primera columna de $1's$ y el resto con los valores de la matriz **A**, de modo que:\n",
    "$$ B = [1|A] $$\n",
    "\n",
    "### 3. Cálculo del Determinante\n",
    "En los casos en que sea posible, calcula el determinante de las matrices **A** y **B**:\n",
    "- Determinante de **A**: $ \\text{det}(A) $\n",
    "- Determinante de **B**: $ \\text{det}(B) $\n",
    "\n",
    "### 4. Cálculo del Rango\n",
    "Calcula el rango de las matrices:\n",
    "- **Rango de A**: $ \\text{rank}(A) $\n",
    "- **Rango de B**: $ \\text{rank}(B) $\n",
    "\n",
    "También, calcula el rango de las matrices ampliadas **[A|b]** y **[B|b]**:\n",
    "$$ \\text{rank}( [A|b] ) \\quad \\text{y} \\quad \\text{rank}( [B|b] ) $$\n",
    "\n",
    "### 5. Clasificación de los Sistemas\n",
    "Clasifica los sistemas:\n",
    "- **Ax=b**\n",
    "- **By=b**\n",
    "\n",
    "según la clasificación de sistemas de ecuaciones lineales (determinado, indeterminado, o incompatible) basado en los rangos obtenidos.\n",
    "\n",
    "### 6. Resolución de los Sistemas\n",
    "Resuelve los sistemas utilizando:\n",
    "- **Matriz inversa** si el sistema es determinado: $ x = A^{-1}b $\n",
    "- **Pseudoinversa** en caso de ser un sistema indeterminado: $ x = A^{+}b $\n",
    "\n",
    "Haz lo mismo para **B**:\n",
    "$$ y = B^{-1}b \\quad \\text{o} \\quad y = B^{+}b $$\n",
    "\n",
    "### 7. Análisis de Estabilidad\n",
    "Realiza un análisis de estabilidad de los sistemas a través de dilataciones y contracciones de las soluciones en factores del:\n",
    "- $0.5\\%$, $1\\%$, $2\\%$, $5\\%$, y $10\\%$.\n",
    "\n",
    "Analiza los cambios porcentuales que se generan en las soluciones $b'$ perturbadas en relación con la $b$ real.\n",
    "\n",
    "### 8. Intervalos de Confianza\n",
    "Con el análisis anterior, establece una clase de intervalos de confianza en terminos de porcentaje para las soluciones obtenidas, considerando que:\n",
    "- Las **dilataciones** podrían simular el redondeo o pérdida de precisión en los decimales de las soluciones.\n",
    "- Las **contracciones** podrían simular errores numéricos pequeños o fluctuaciones en los datos originales.\n",
    "\n",
    "### 9. Interpolantes\n",
    "Las soluciones de los sistemas **Ax=b** y **By=b** pueden utilizarse para construir interpolantes:\n",
    "- **Sin término independiente** para **Ax=b**.\n",
    "- **Con término independiente** para **By=b**.\n",
    "\n",
    "Construye dichos interpolantes.\n",
    "\n",
    "### 10. Comparación de los Interpolantes\n",
    "Analiza cuál de los interpolantes proporciona una solución más cercana a los valores de $b$, y argumenta si eso sería suficiente para justificar si es una mejor solución para el problema de interpolación.\n"
   ]
  },
  {
   "cell_type": "code",
   "execution_count": 12,
   "id": "1095e615-99af-4d03-9fd3-8ecdab4a42a3",
   "metadata": {},
   "outputs": [],
   "source": [
    "# tabla (6x6)\n",
    "tabla1 = np.array([[0.32047, 0.82356, 0.25645, 0.49580, 0.67355, 0.61427],\n",
    "                  [0.29187, 0.44708, 0.19897, 0.89325, 0.73233, 0.89347],\n",
    "                  [0.13883, 0.64831, 0.02541, 0.84798, 0.57868, 0.37958],\n",
    "                  [0.89019, 0.36956, 0.23375, 0.45624, 0.18749, 0.25037],\n",
    "                  [0.54278, 0.18745, 0.96885, 0.25942, 0.65492, 0.12485],\n",
    "                  [0.76956, 0.06538, 0.49874, 0.82947, 0.86217, 0.78432]])\n"
   ]
  },
  {
   "cell_type": "code",
   "execution_count": 4,
   "id": "fea8f173-3353-4eb5-9898-c2a35df4b7b4",
   "metadata": {},
   "outputs": [],
   "source": [
    "# tabla (6x6)\n",
    "tabla2 = np.array([[0.42533, 0.30128, 0.67274, 0.56891, 0.84945, 0.61348],\n",
    "                  [0.89747, 0.25390, 0.18011, 0.45375, 0.61618, 0.23765],\n",
    "                  [0.53472, 0.74909, 0.10292, 0.92582, 0.42937, 0.97256],\n",
    "                  [0.82625, 0.66803, 0.48776, 0.61463, 0.06765, 0.81539],\n",
    "                  [0.16523, 0.81656, 0.41254, 0.72114, 0.82603, 0.15945],\n",
    "                  [0.72064, 0.37514, 0.57535, 0.25643, 0.53927, 0.69474]])\n"
   ]
  },
  {
   "cell_type": "code",
   "execution_count": 5,
   "id": "6d7477b6-d435-4753-9642-2a760b70bc0b",
   "metadata": {},
   "outputs": [],
   "source": [
    "# tabla (8x7)\n",
    "tabla3 = np.array([[0.74898, 0.28122, 0.52920, 0.56900, 0.91599, 0.26114, 0.85767],\n",
    "                  [0.87788, 0.57300, 0.21391, 0.18360, 0.27809, 0.47191, 0.52021],\n",
    "                  [0.87446, 0.54117, 0.65085, 0.02731, 0.92548, 0.95857, 0.84126],\n",
    "                  [0.44242, 0.31208, 0.45062, 0.48809, 0.24730, 0.08539, 0.49884],\n",
    "                  [0.36721, 0.45338, 0.60793, 0.01837, 0.66224, 0.12615, 0.33194],\n",
    "                  [0.54924, 0.69931, 0.05451, 0.81977, 0.56267, 0.36233, 0.99719],\n",
    "                  [0.77000, 0.20419, 0.72319, 0.47703, 0.62884, 0.70215, 0.00228],\n",
    "                  [0.59750, 0.39309, 0.90533, 0.88076, 0.34626, 0.56525, 0.59347]])\n"
   ]
  },
  {
   "cell_type": "code",
   "execution_count": 6,
   "id": "1b687790-df1c-4ee7-b646-51ef278cf8c4",
   "metadata": {},
   "outputs": [],
   "source": [
    "# tabla (8x7)\n",
    "tabla4 = np.array([[0.43217, 0.27185, 0.63925, 0.14753, 0.65845, 0.72451, 0.92756],\n",
    "                  [0.85973, 0.55467, 0.10348, 0.38429, 0.97862, 0.30109, 0.36874],\n",
    "                  [0.18459, 0.66988, 0.47842, 0.82746, 0.13367, 0.93471, 0.74512],\n",
    "                  [0.04917, 0.76520, 0.56264, 0.05618, 0.31561, 0.90881, 0.09857],\n",
    "                  [0.70551, 0.97730, 0.84481, 0.27559, 0.12154, 0.54392, 0.64783],\n",
    "                  [0.96104, 0.86563, 0.05429, 0.34809, 0.25537, 0.21155, 0.28367],\n",
    "                  [0.57384, 0.78641, 0.19932, 0.14379, 0.47252, 0.20055, 0.18792],\n",
    "                  [0.31864, 0.96378, 0.48521, 0.11467, 0.89523, 0.69090, 0.45634]])"
   ]
  },
  {
   "cell_type": "code",
   "execution_count": 7,
   "id": "83eab68b-673c-4024-aa9b-8743219b443a",
   "metadata": {},
   "outputs": [],
   "source": [
    "# tabla (6x7)\n",
    "tabla5 = np.array([[0.42074, 0.65412, 0.71950, 0.81775, 0.39471, 0.74543, 0.67315],\n",
    "                  [0.12866, 0.89460, 0.56291, 0.21824, 0.99422, 0.40157, 0.58752],\n",
    "                  [0.51278, 0.70214, 0.28451, 0.45349, 0.07861, 0.13209, 0.24194],\n",
    "                  [0.89752, 0.67005, 0.46527, 0.84486, 0.87365, 0.26328, 0.45833],\n",
    "                  [0.18930, 0.49567, 0.95384, 0.27422, 0.10112, 0.65198, 0.78461],\n",
    "                  [0.36893, 0.76034, 0.01245, 0.21353, 0.07645, 0.84261, 0.03150]])\n"
   ]
  },
  {
   "cell_type": "code",
   "execution_count": 8,
   "id": "735cd64e-0e2a-4dd1-8aec-e99cdd5b7a26",
   "metadata": {},
   "outputs": [],
   "source": [
    "# tabla (8x7)\n",
    "tabla6 = np.array([[0.74898, 0.28122, 0.52920, 0.56900, 0.91599, 0.26114, 0.85767],\n",
    "                  [0.87788, 0.57300, 0.21391, 0.18360, 0.27809, 0.47191, 0.52021],\n",
    "                  [0.87446, 0.54117, 0.65085, 0.02731, 0.92548, 0.95857, 0.84126],\n",
    "                  [0.44242, 0.31208, 0.45062, 0.48809, 0.24730, 0.08539, 0.49884],\n",
    "                  [0.36721, 0.45338, 0.60793, 0.01837, 0.66224, 0.12615, 0.33194],\n",
    "                  [0.54924, 0.69931, 0.05451, 0.81977, 0.56267, 0.36233, 0.99719],\n",
    "                  [0.77000, 0.20419, 0.72319, 0.47703, 0.62884, 0.70215, 0.00228],\n",
    "                  [0.59750, 0.39309, 0.90533, 0.88076, 0.34626, 0.56525, 0.59347]])\n"
   ]
  },
  {
   "cell_type": "code",
   "execution_count": 9,
   "id": "6c97454f-2cb5-4d98-9a0c-280c2b60272c",
   "metadata": {},
   "outputs": [],
   "source": [
    "import numpy as np\n",
    "from numpy.linalg import det, matrix_rank, inv, pinv\n",
    "\n",
    "# M(x): Extracts all columns of matrix x except the last one\n",
    "M = lambda x: x[:, :-1]\n",
    "\n",
    "# aM(x, y): Concatenates matrix x with vector y horizontally\n",
    "aM = lambda x, y: np.hstack((x, y))\n",
    "\n",
    "# v(x): Extracts the last column of matrix x and reshapes it as a column vector\n",
    "v = lambda x: x[:, -1].reshape(-1, 1)\n",
    "\n",
    "# det_M(x): Returns the determinant of square matrix x, or None if x is not square\n",
    "det_M = lambda x: det(x) if x.shape[0] == x.shape[1] else None\n",
    "\n",
    "# rng_M(x): Returns the rank of matrix x\n",
    "rng_M = lambda x: matrix_rank(x)\n",
    "\n",
    "# class_M_det(x): Classifies matrix x based on its determinant\n",
    "# \"SCD\" (Sistema Compatible Determinado) if det(x) is non-zero, else \"SCI o SI\" (Sistema Compatible Indeterminado o Sistema Incompatible)\n",
    "class_M_det = lambda x: \"SCD\" if (det_M(x) != 0 and det_M(x) != None) else \"SCI o SI\"\n",
    "\n",
    "# class_M_rng(x, y): Classifies matrix x based on its rank relative to augmented matrix y\n",
    "# \"SCD or SCI\" if ranks of x and y are equal, else \"SI\" (Sistema Incompatible)\n",
    "class_M_rng = lambda x, y: \"SCD or SCI\" if rng_M(x) == rng_M(y) else \"SI\"\n",
    "\n",
    "# x_inv(x, y): Solves the system using matrix inversion if x is invertible, i.e., x⁻¹ * y\n",
    "x_inv = lambda x, y: inv(x).dot(y)\n",
    "\n",
    "# x_pinv(x, y): Solves the system using the pseudo-inverse of x (in case x is not invertible)\n",
    "x_pinv = lambda x, y: pinv(x).dot(y)\n",
    "\n",
    "# Lists of dilation (expansion) and contraction factors to apply perturbations\n",
    "dilataciones = [1.005, 1.01, 1.02, 1.05, 1.10]\n",
    "contracciones = [0.995, 0.99, 0.98, 0.95, 0.90]\n",
    "\n",
    "# x_perturbadas(x, lista): Returns a list of perturbed versions of x, scaled by the factors in 'lista'\n",
    "x_perturbadas = lambda x, lista: [x * i for i in lista]\n",
    "\n",
    "# b_perturbadas(M, lista): Returns a list of perturbed versions of vector b, by applying matrix M to each perturbed version of x\n",
    "b_perturbadas = lambda M, lista: [M.dot(i) for i in lista]\n",
    "\n"
   ]
  },
  {
   "cell_type": "code",
   "execution_count": 39,
   "id": "cdf4fb63-ff1f-4608-bfd7-84a16adf6e1a",
   "metadata": {},
   "outputs": [
    {
     "name": "stdout",
     "output_type": "stream",
     "text": [
      "det(A):  None\n",
      "det(B):  -0.0016271442410992075\n"
     ]
    }
   ],
   "source": [
    "A = M(tabla1)\n",
    "b = v(tabla1)\n",
    "\n",
    "B = aM(np.ones((A.shape[0], 1)),A)\n",
    "Ab = aM(A,b)\n",
    "Bb = aM(B,b)\n",
    "\n",
    "# Calculate the determinant of matrix A using the det_M function\n",
    "dA = det_M(A)\n",
    "print(\"det(A): \", dA)\n",
    "\n",
    "# Calculate the determinant of matrix B using the det_M function\n",
    "dB = det_M(B)\n",
    "print(\"det(B): \", dB)"
   ]
  },
  {
   "cell_type": "code",
   "execution_count": 20,
   "id": "10ddc85b-82c8-4ad9-8f2d-ab4612dd5798",
   "metadata": {},
   "outputs": [
    {
     "name": "stdout",
     "output_type": "stream",
     "text": [
      "rng(A):  5\n",
      "rng([A|b]):  6\n",
      "rng(B):  6\n",
      "rng([B|b]):  6\n"
     ]
    }
   ],
   "source": [
    "# Calculate the rank of matrix A\n",
    "rA = rng_M(A)\n",
    "print(\"rng(A): \", rA)\n",
    "\n",
    "# Calculate the rank of the augmented matrix [A | b]\n",
    "rAb = rng_M(Ab)\n",
    "print(\"rng([A|b]): \", rAb)\n",
    "\n",
    "# Calculate the rank of matrix B\n",
    "rB = rng_M(B)\n",
    "print(\"rng(B): \", rB)\n",
    "\n",
    "# Calculate the rank of the augmented matrix [B | b]\n",
    "rBb = rng_M(Bb)\n",
    "print(\"rng([B|b]): \", rBb)"
   ]
  },
  {
   "cell_type": "code",
   "execution_count": 24,
   "id": "f2acddf2-4d8d-46f3-be00-998e245a3cdc",
   "metadata": {},
   "outputs": [
    {
     "name": "stdout",
     "output_type": "stream",
     "text": [
      "clasificacion por determinante para A:  SCI o SI\n",
      "clasificacion por rango para A:  SI\n",
      "clasificacion por determinante para B:  SCD\n",
      "clasificacion por rango para B:  SCD or SCI\n"
     ]
    }
   ],
   "source": [
    "\n",
    "# Classify matrix A based on its determinant (SCD or SCI/SI)\n",
    "cAd = class_M_det(A)\n",
    "\n",
    "# Classify matrix A based on its rank (SCD or SCI/SI) by comparing the rank of A and [A|b]\n",
    "cAr = class_M_rng(A, Ab)\n",
    "\n",
    "# Print classification of matrix A by determinant\n",
    "print(\"clasificacion por determinante para A: \", cAd)\n",
    "\n",
    "# Print classification of matrix A by rank\n",
    "print(\"clasificacion por rango para A: \", cAr)\n",
    "\n",
    "# Classify matrix B based on its determinant (SCD or SCI/SI)\n",
    "cBd = class_M_det(B)\n",
    "\n",
    "# Classify matrix B based on its rank by comparing the rank of B and [B|b]\n",
    "cBr = class_M_rng(B, Bb)\n",
    "\n",
    "# Print classification of matrix B by determinant\n",
    "print(\"clasificacion por determinante para B: \", cBd)\n",
    "\n",
    "# Print classification of matrix B by rank\n",
    "print(\"clasificacion por rango para B: \", cBr)\n"
   ]
  },
  {
   "cell_type": "code",
   "execution_count": 43,
   "id": "f193499b-bacb-41c6-834a-c61fcb2d4ebb",
   "metadata": {},
   "outputs": [
    {
     "name": "stdout",
     "output_type": "stream",
     "text": [
      "[[-29.69021801]\n",
      " [  8.23271535]\n",
      " [ 20.52932528]\n",
      " [ 23.35187963]\n",
      " [ 25.88920475]\n",
      " [-11.97452104]]\n",
      "[[0.61427]\n",
      " [0.89347]\n",
      " [0.37958]\n",
      " [0.25037]\n",
      " [0.12485]\n",
      " [0.78432]]\n"
     ]
    }
   ],
   "source": [
    "# Solve the system B * x = b using the inverse of matrix B\n",
    "xB_base = x_inv(B, b)\n",
    "\n",
    "# Recalculate b (bB_base) by multiplying matrix B with the solution vector xB_base\n",
    "bB_base = B.dot(xB_base)\n",
    "\n",
    "print(xB_base)\n",
    "print(bB_base)"
   ]
  },
  {
   "cell_type": "code",
   "execution_count": 45,
   "id": "5d89317b-da88-41a3-a270-ec508f53e192",
   "metadata": {},
   "outputs": [
    {
     "name": "stdout",
     "output_type": "stream",
     "text": [
      "Dilataciones\n",
      "==============================================\n",
      "valores en x\n",
      "==============================================\n",
      "Error relativo porcentual de x_base con dilatación número 0 : 0.50%\n",
      "Error relativo porcentual de x_base con dilatación número 1 : 1.00%\n",
      "Error relativo porcentual de x_base con dilatación número 2 : 2.00%\n",
      "Error relativo porcentual de x_base con dilatación número 3 : 5.00%\n",
      "Error relativo porcentual de x_base con dilatación número 4 : 10.00%\n",
      "==============================================\n",
      "valores en b\n",
      "==============================================\n",
      "Error relativo porcentual de b_base con dilatación número 0: 0.50%\n",
      "Error relativo porcentual de b_base con dilatación número 1: 1.00%\n",
      "Error relativo porcentual de b_base con dilatación número 2: 2.00%\n",
      "Error relativo porcentual de b_base con dilatación número 3: 5.00%\n",
      "Error relativo porcentual de b_base con dilatación número 4: 10.00%\n",
      "==============================================\n",
      "Contracciones\n",
      "==============================================\n",
      "valores en x\n",
      "==============================================\n",
      "Error relativo porcentual de x_base con contracción número 0 : 0.50%\n",
      "Error relativo porcentual de x_base con contracción número 1 : 1.00%\n",
      "Error relativo porcentual de x_base con contracción número 2 : 2.00%\n",
      "Error relativo porcentual de x_base con contracción número 3 : 5.00%\n",
      "Error relativo porcentual de x_base con contracción número 4 : 10.00%\n",
      "==============================================\n",
      "valores en b\n",
      "==============================================\n",
      "Error relativo porcentual de b_base con contracción número 0: 0.50%\n",
      "Error relativo porcentual de b_base con contracción número 1: 1.00%\n",
      "Error relativo porcentual de b_base con contracción número 2: 2.00%\n",
      "Error relativo porcentual de b_base con contracción número 3: 5.00%\n",
      "Error relativo porcentual de b_base con contracción número 4: 10.00%\n"
     ]
    }
   ],
   "source": [
    "# Apply dilatations (expansions) to the solution vector xB_base\n",
    "xB_dil = x_perturbadas(xB_base, dilataciones)\n",
    "\n",
    "# Apply contractions to the solution vector xB_base\n",
    "xB_cont = x_perturbadas(xB_base, contracciones)\n",
    "\n",
    "# Calculate perturbed values of b (bB_dil) by multiplying B with the perturbed xB_dil\n",
    "bB_dil = b_perturbadas(B, xB_dil)\n",
    "\n",
    "# Calculate perturbed values of b (bB_cont) by multiplying B with the perturbed xB_cont\n",
    "bB_cont = b_perturbadas(B, xB_cont)\n",
    "\n",
    "# Printing results for dilatations (expansions)\n",
    "print(\"Dilataciones\")\n",
    "print(\"==============================================\")\n",
    "print(\"valores en x\")\n",
    "print(\"==============================================\")\n",
    "# Loop through dilatations and calculate the relative percentage error for x\n",
    "for i in range(len(dilataciones)):\n",
    "    error_relativo = np.linalg.norm(xB_base - xB_dil[i]) / np.linalg.norm(xB_base)\n",
    "    error_porcentual = error_relativo * 100\n",
    "    print(f\"Error relativo porcentual de x_base con dilatación número {i} : {error_porcentual:.2f}%\")\n",
    "\n",
    "# Printing relative errors for b values (corresponding to dilated x)\n",
    "print(\"==============================================\")\n",
    "print(\"valores en b\")\n",
    "print(\"==============================================\")\n",
    "for i in range(len(dilataciones)):\n",
    "    error_relativo = np.linalg.norm(bB_base - bB_dil[i]) / np.linalg.norm(bB_base)\n",
    "    error_porcentual = error_relativo * 100\n",
    "    print(f\"Error relativo porcentual de b_base con dilatación número {i}: {error_porcentual:.2f}%\")\n",
    "\n",
    "# Printing results for contractions\n",
    "print(\"==============================================\")\n",
    "print(\"Contracciones\")\n",
    "print(\"==============================================\")\n",
    "print(\"valores en x\")\n",
    "print(\"==============================================\")\n",
    "# Loop through contractions and calculate the relative percentage error for x\n",
    "for i in range(len(contracciones)):\n",
    "    error_relativo = np.linalg.norm(xB_base - xB_cont[i]) / np.linalg.norm(xB_base)\n",
    "    error_porcentual = error_relativo * 100\n",
    "    print(f\"Error relativo porcentual de x_base con contracción número {i} : {error_porcentual:.2f}%\")\n",
    "\n",
    "# Printing relative errors for b values (corresponding to contracted x)\n",
    "print(\"==============================================\")\n",
    "print(\"valores en b\")\n",
    "print(\"==============================================\")\n",
    "for i in range(len(contracciones)):\n",
    "    error_relativo = np.linalg.norm(bB_base - bB_cont[i]) / np.linalg.norm(bB_base)\n",
    "    error_porcentual = error_relativo * 100\n",
    "    print(f\"Error relativo porcentual de b_base con contracción número {i}: {error_porcentual:.2f}%\")\n",
    "\n"
   ]
  },
  {
   "cell_type": "code",
   "execution_count": 31,
   "id": "d2c21647-1495-4842-af05-0d9270dde660",
   "metadata": {},
   "outputs": [],
   "source": [
    "# Lambda function for calculating the weighted sum (interpolation)\n",
    "interpolante_B = lambda r : sum([r[i] * xB_base[i] for i in range(len(r))])"
   ]
  },
  {
   "cell_type": "code",
   "execution_count": 37,
   "id": "8184fa87-600b-4c41-b4dc-7d71ace84676",
   "metadata": {},
   "outputs": [
    {
     "data": {
      "text/plain": [
       "array([5.00791724e-15])"
      ]
     },
     "execution_count": 37,
     "metadata": {},
     "output_type": "execute_result"
    }
   ],
   "source": [
    "# Calculate RMSE (Root Mean Squared Error)\n",
    "RMSE_B = (sum([(interpolante_B(B[i,:]) - b[i])**2 for i in range(len(b))]) / len(b))**0.5\n",
    "RMSE_B\n"
   ]
  },
  {
   "cell_type": "code",
   "execution_count": 46,
   "id": "c9450fea-613e-4b55-af85-5c3e82817f1a",
   "metadata": {},
   "outputs": [
    {
     "name": "stdout",
     "output_type": "stream",
     "text": [
      "det(A):  None\n",
      "det(B):  0.004879188221007908\n"
     ]
    }
   ],
   "source": [
    "A = M(tabla2)\n",
    "b = v(tabla2)\n",
    "\n",
    "B = aM(np.ones((A.shape[0], 1)),A)\n",
    "Ab = aM(A,b)\n",
    "Bb = aM(B,b)\n",
    "\n",
    "# Calculate the determinant of matrix A using the det_M function\n",
    "dA = det_M(A)\n",
    "print(\"det(A): \", dA)\n",
    "\n",
    "# Calculate the determinant of matrix B using the det_M function\n",
    "dB = det_M(B)\n",
    "print(\"det(B): \", dB)"
   ]
  },
  {
   "cell_type": "code",
   "execution_count": 47,
   "id": "2e9b22a2-92fb-4cc5-8b5d-c8f18b057da2",
   "metadata": {},
   "outputs": [
    {
     "name": "stdout",
     "output_type": "stream",
     "text": [
      "rng(A):  5\n",
      "rng([A|b]):  6\n",
      "rng(B):  6\n",
      "rng([B|b]):  6\n"
     ]
    }
   ],
   "source": [
    "# Calculate the rank of matrix A\n",
    "rA = rng_M(A)\n",
    "print(\"rng(A): \", rA)\n",
    "\n",
    "# Calculate the rank of the augmented matrix [A | b]\n",
    "rAb = rng_M(Ab)\n",
    "print(\"rng([A|b]): \", rAb)\n",
    "\n",
    "# Calculate the rank of matrix B\n",
    "rB = rng_M(B)\n",
    "print(\"rng(B): \", rB)\n",
    "\n",
    "# Calculate the rank of the augmented matrix [B | b]\n",
    "rBb = rng_M(Bb)\n",
    "print(\"rng([B|b]): \", rBb)"
   ]
  },
  {
   "cell_type": "code",
   "execution_count": 48,
   "id": "639ed5a5-6323-4747-9ba6-fe47babd6274",
   "metadata": {},
   "outputs": [
    {
     "name": "stdout",
     "output_type": "stream",
     "text": [
      "clasificacion por determinante para A:  SCI o SI\n",
      "clasificacion por rango para A:  SI\n",
      "clasificacion por determinante para B:  SCD\n",
      "clasificacion por rango para B:  SCD or SCI\n"
     ]
    }
   ],
   "source": [
    "\n",
    "# Classify matrix A based on its determinant (SCD or SCI/SI)\n",
    "cAd = class_M_det(A)\n",
    "\n",
    "# Classify matrix A based on its rank (SCD or SCI/SI) by comparing the rank of A and [A|b]\n",
    "cAr = class_M_rng(A, Ab)\n",
    "\n",
    "# Print classification of matrix A by determinant\n",
    "print(\"clasificacion por determinante para A: \", cAd)\n",
    "\n",
    "# Print classification of matrix A by rank\n",
    "print(\"clasificacion por rango para A: \", cAr)\n",
    "\n",
    "# Classify matrix B based on its determinant (SCD or SCI/SI)\n",
    "cBd = class_M_det(B)\n",
    "\n",
    "# Classify matrix B based on its rank by comparing the rank of B and [B|b]\n",
    "cBr = class_M_rng(B, Bb)\n",
    "\n",
    "# Print classification of matrix B by determinant\n",
    "print(\"clasificacion por determinante para B: \", cBd)\n",
    "\n",
    "# Print classification of matrix B by rank\n",
    "print(\"clasificacion por rango para B: \", cBr)"
   ]
  },
  {
   "cell_type": "code",
   "execution_count": 49,
   "id": "8b53e5a2-cedc-4467-992c-bf3b6c5b6cfd",
   "metadata": {},
   "outputs": [
    {
     "name": "stdout",
     "output_type": "stream",
     "text": [
      "[[ 19.31512958]\n",
      " [-10.85927672]\n",
      " [ -8.13316506]\n",
      " [ -4.12722987]\n",
      " [ -2.41634663]\n",
      " [ -8.8072012 ]]\n",
      "[[0.61348]\n",
      " [0.23765]\n",
      " [0.97256]\n",
      " [0.81539]\n",
      " [0.15945]\n",
      " [0.69474]]\n"
     ]
    }
   ],
   "source": [
    "# Solve the system B * x = b using the inverse of matrix B\n",
    "xB_base = x_inv(B, b)\n",
    "\n",
    "# Recalculate b (bB_base) by multiplying matrix B with the solution vector xB_base\n",
    "bB_base = B.dot(xB_base)\n",
    "\n",
    "print(xB_base)\n",
    "print(bB_base)"
   ]
  },
  {
   "cell_type": "code",
   "execution_count": 50,
   "id": "d1714581-3fb7-4f2b-a2ba-c7c90c4ea751",
   "metadata": {},
   "outputs": [
    {
     "name": "stdout",
     "output_type": "stream",
     "text": [
      "Dilataciones\n",
      "==============================================\n",
      "valores en x\n",
      "==============================================\n",
      "Error relativo porcentual de x_base con dilatación número 0 : 0.50%\n",
      "Error relativo porcentual de x_base con dilatación número 1 : 1.00%\n",
      "Error relativo porcentual de x_base con dilatación número 2 : 2.00%\n",
      "Error relativo porcentual de x_base con dilatación número 3 : 5.00%\n",
      "Error relativo porcentual de x_base con dilatación número 4 : 10.00%\n",
      "==============================================\n",
      "valores en b\n",
      "==============================================\n",
      "Error relativo porcentual de b_base con dilatación número 0: 0.50%\n",
      "Error relativo porcentual de b_base con dilatación número 1: 1.00%\n",
      "Error relativo porcentual de b_base con dilatación número 2: 2.00%\n",
      "Error relativo porcentual de b_base con dilatación número 3: 5.00%\n",
      "Error relativo porcentual de b_base con dilatación número 4: 10.00%\n",
      "==============================================\n",
      "Contracciones\n",
      "==============================================\n",
      "valores en x\n",
      "==============================================\n",
      "Error relativo porcentual de x_base con contracción número 0 : 0.50%\n",
      "Error relativo porcentual de x_base con contracción número 1 : 1.00%\n",
      "Error relativo porcentual de x_base con contracción número 2 : 2.00%\n",
      "Error relativo porcentual de x_base con contracción número 3 : 5.00%\n",
      "Error relativo porcentual de x_base con contracción número 4 : 10.00%\n",
      "==============================================\n",
      "valores en b\n",
      "==============================================\n",
      "Error relativo porcentual de b_base con contracción número 0: 0.50%\n",
      "Error relativo porcentual de b_base con contracción número 1: 1.00%\n",
      "Error relativo porcentual de b_base con contracción número 2: 2.00%\n",
      "Error relativo porcentual de b_base con contracción número 3: 5.00%\n",
      "Error relativo porcentual de b_base con contracción número 4: 10.00%\n"
     ]
    }
   ],
   "source": [
    "# Apply dilatations (expansions) to the solution vector xB_base\n",
    "xB_dil = x_perturbadas(xB_base, dilataciones)\n",
    "\n",
    "# Apply contractions to the solution vector xB_base\n",
    "xB_cont = x_perturbadas(xB_base, contracciones)\n",
    "\n",
    "# Calculate perturbed values of b (bB_dil) by multiplying B with the perturbed xB_dil\n",
    "bB_dil = b_perturbadas(B, xB_dil)\n",
    "\n",
    "# Calculate perturbed values of b (bB_cont) by multiplying B with the perturbed xB_cont\n",
    "bB_cont = b_perturbadas(B, xB_cont)\n",
    "\n",
    "# Printing results for dilatations (expansions)\n",
    "print(\"Dilataciones\")\n",
    "print(\"==============================================\")\n",
    "print(\"valores en x\")\n",
    "print(\"==============================================\")\n",
    "# Loop through dilatations and calculate the relative percentage error for x\n",
    "for i in range(len(dilataciones)):\n",
    "    error_relativo = np.linalg.norm(xB_base - xB_dil[i]) / np.linalg.norm(xB_base)\n",
    "    error_porcentual = error_relativo * 100\n",
    "    print(f\"Error relativo porcentual de x_base con dilatación número {i} : {error_porcentual:.2f}%\")\n",
    "\n",
    "# Printing relative errors for b values (corresponding to dilated x)\n",
    "print(\"==============================================\")\n",
    "print(\"valores en b\")\n",
    "print(\"==============================================\")\n",
    "for i in range(len(dilataciones)):\n",
    "    error_relativo = np.linalg.norm(bB_base - bB_dil[i]) / np.linalg.norm(bB_base)\n",
    "    error_porcentual = error_relativo * 100\n",
    "    print(f\"Error relativo porcentual de b_base con dilatación número {i}: {error_porcentual:.2f}%\")\n",
    "\n",
    "# Printing results for contractions\n",
    "print(\"==============================================\")\n",
    "print(\"Contracciones\")\n",
    "print(\"==============================================\")\n",
    "print(\"valores en x\")\n",
    "print(\"==============================================\")\n",
    "# Loop through contractions and calculate the relative percentage error for x\n",
    "for i in range(len(contracciones)):\n",
    "    error_relativo = np.linalg.norm(xB_base - xB_cont[i]) / np.linalg.norm(xB_base)\n",
    "    error_porcentual = error_relativo * 100\n",
    "    print(f\"Error relativo porcentual de x_base con contracción número {i} : {error_porcentual:.2f}%\")\n",
    "\n",
    "# Printing relative errors for b values (corresponding to contracted x)\n",
    "print(\"==============================================\")\n",
    "print(\"valores en b\")\n",
    "print(\"==============================================\")\n",
    "for i in range(len(contracciones)):\n",
    "    error_relativo = np.linalg.norm(bB_base - bB_cont[i]) / np.linalg.norm(bB_base)\n",
    "    error_porcentual = error_relativo * 100\n",
    "    print(f\"Error relativo porcentual de b_base con contracción número {i}: {error_porcentual:.2f}%\")\n",
    "\n"
   ]
  },
  {
   "cell_type": "code",
   "execution_count": 51,
   "id": "35301f4a-ef44-4132-8fc3-aa643fc4cc5a",
   "metadata": {},
   "outputs": [],
   "source": [
    "# Lambda function for calculating the weighted sum (interpolation)\n",
    "interpolante_B = lambda r : sum([r[i] * xB_base[i] for i in range(len(r))])"
   ]
  },
  {
   "cell_type": "code",
   "execution_count": 53,
   "id": "0f026210-9a63-4431-983b-25cbb2dd1178",
   "metadata": {},
   "outputs": [
    {
     "name": "stdout",
     "output_type": "stream",
     "text": [
      "RMSE para el interpolante CON termino independiente:  [1.62103017e-15]\n"
     ]
    }
   ],
   "source": [
    "# Calculate RMSE (Root Mean Squared Error)\n",
    "RMSE_B = (sum([(interpolante_B(B[i,:]) - b[i])**2 for i in range(len(b))]) / len(b))**0.5\n",
    "print(\"RMSE para el interpolante CON termino independiente: \", RMSE_B)\n"
   ]
  },
  {
   "cell_type": "code",
   "execution_count": 54,
   "id": "e7f323ca-edce-4605-88be-e0676800aada",
   "metadata": {},
   "outputs": [
    {
     "name": "stdout",
     "output_type": "stream",
     "text": [
      "det(A):  None\n",
      "det(B):  None\n"
     ]
    }
   ],
   "source": [
    "A = M(tabla3)\n",
    "b = v(tabla3)\n",
    "\n",
    "B = aM(np.ones((A.shape[0], 1)),A)\n",
    "Ab = aM(A,b)\n",
    "Bb = aM(B,b)\n",
    "\n",
    "# Calculate the determinant of matrix A using the det_M function\n",
    "dA = det_M(A)\n",
    "print(\"det(A): \", dA)\n",
    "\n",
    "# Calculate the determinant of matrix B using the det_M function\n",
    "dB = det_M(B)\n",
    "print(\"det(B): \", dB)"
   ]
  },
  {
   "cell_type": "code",
   "execution_count": 55,
   "id": "ef6bac38-79cc-46f6-a492-9fc8ae269148",
   "metadata": {},
   "outputs": [
    {
     "name": "stdout",
     "output_type": "stream",
     "text": [
      "rng(A):  6\n",
      "rng([A|b]):  7\n",
      "rng(B):  7\n",
      "rng([B|b]):  8\n"
     ]
    }
   ],
   "source": [
    "# Calculate the rank of matrix A\n",
    "rA = rng_M(A)\n",
    "print(\"rng(A): \", rA)\n",
    "\n",
    "# Calculate the rank of the augmented matrix [A | b]\n",
    "rAb = rng_M(Ab)\n",
    "print(\"rng([A|b]): \", rAb)\n",
    "\n",
    "# Calculate the rank of matrix B\n",
    "rB = rng_M(B)\n",
    "print(\"rng(B): \", rB)\n",
    "\n",
    "# Calculate the rank of the augmented matrix [B | b]\n",
    "rBb = rng_M(Bb)\n",
    "print(\"rng([B|b]): \", rBb)"
   ]
  },
  {
   "cell_type": "code",
   "execution_count": 56,
   "id": "f146875b-064e-4325-97ed-de040a453669",
   "metadata": {},
   "outputs": [
    {
     "name": "stdout",
     "output_type": "stream",
     "text": [
      "clasificacion por determinante para A:  SCI o SI\n",
      "clasificacion por rango para A:  SI\n",
      "clasificacion por determinante para B:  SCI o SI\n",
      "clasificacion por rango para B:  SI\n"
     ]
    }
   ],
   "source": [
    "\n",
    "# Classify matrix A based on its determinant (SCD or SCI/SI)\n",
    "cAd = class_M_det(A)\n",
    "\n",
    "# Classify matrix A based on its rank (SCD or SCI/SI) by comparing the rank of A and [A|b]\n",
    "cAr = class_M_rng(A, Ab)\n",
    "\n",
    "# Print classification of matrix A by determinant\n",
    "print(\"clasificacion por determinante para A: \", cAd)\n",
    "\n",
    "# Print classification of matrix A by rank\n",
    "print(\"clasificacion por rango para A: \", cAr)\n",
    "\n",
    "# Classify matrix B based on its determinant (SCD or SCI/SI)\n",
    "cBd = class_M_det(B)\n",
    "\n",
    "# Classify matrix B based on its rank by comparing the rank of B and [B|b]\n",
    "cBr = class_M_rng(B, Bb)\n",
    "\n",
    "# Print classification of matrix B by determinant\n",
    "print(\"clasificacion por determinante para B: \", cBd)\n",
    "\n",
    "# Print classification of matrix B by rank\n",
    "print(\"clasificacion por rango para B: \", cBr)"
   ]
  }
 ],
 "metadata": {
  "kernelspec": {
   "display_name": "Python 3 (ipykernel)",
   "language": "python",
   "name": "python3"
  },
  "language_info": {
   "codemirror_mode": {
    "name": "ipython",
    "version": 3
   },
   "file_extension": ".py",
   "mimetype": "text/x-python",
   "name": "python",
   "nbconvert_exporter": "python",
   "pygments_lexer": "ipython3",
   "version": "3.12.4"
  }
 },
 "nbformat": 4,
 "nbformat_minor": 5
}
