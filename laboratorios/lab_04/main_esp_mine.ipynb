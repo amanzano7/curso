{
 "cells": [
  {
   "cell_type": "markdown",
   "metadata": {},
   "source": [
    "# Laboratorio: Programación en Python\n",
    "\n",
    "En este laboratorio, pondremos en práctica algunos de los conceptos que hemos aprendido recientemente. El objetivo es que implementes cada función utilizando tres enfoques diferentes en Python: **programación imperativa**, **programación orientada a objetos** y **programación funcional**.\n",
    "\n",
    "> **NOTA:** En este laboratorio deberías intentar escribir todas las funciones por ti mismo utilizando únicamente la sintaxis más básica de Python, sin utilizar funciones predefinidas como `len`, `count`, `sum`, `max`, `min`, `in`, etc. ¡Dale una oportunidad! 🧑🏻‍💻👩🏻‍💻\n",
    "\n",
    "La celda después de cada ejercicio contiene pruebas para verificar si tu función funciona como se espera.\n"
   ]
  },
  {
   "cell_type": "code",
   "execution_count": 10,
   "metadata": {},
   "outputs": [],
   "source": [
    "from mod.testing import *\n",
    "import unittest"
   ]
  },
  {
   "cell_type": "markdown",
   "metadata": {},
   "source": [
    "## 1. Escribe una función que devuelva el mayor de dos números"
   ]
  },
  {
   "cell_type": "code",
   "execution_count": 11,
   "metadata": {},
   "outputs": [],
   "source": [
    "#tu codigo aquí\n",
    "def greater_imperativa(a, b):\n",
    "    if a > b:\n",
    "        return a\n",
    "    else:\n",
    "        return b"
   ]
  },
  {
   "cell_type": "code",
   "execution_count": 12,
   "metadata": {},
   "outputs": [
    {
     "name": "stderr",
     "output_type": "stream",
     "text": [
      "....................................................................................................\n",
      "----------------------------------------------------------------------\n",
      "Ran 100 tests in 0.214s\n",
      "\n",
      "OK\n"
     ]
    }
   ],
   "source": [
    "# Para testear tu función\n",
    "test_greater(greater_imperativa)"
   ]
  },
  {
   "cell_type": "code",
   "execution_count": 13,
   "metadata": {},
   "outputs": [],
   "source": [
    "class Comparador:\n",
    "    @staticmethod\n",
    "    def greater_poo(a, b):\n",
    "        return a if a > b else b\n",
    "\n",
    "greater_poo = Comparador.greater_poo"
   ]
  },
  {
   "cell_type": "code",
   "execution_count": 14,
   "metadata": {},
   "outputs": [
    {
     "name": "stderr",
     "output_type": "stream",
     "text": [
      "....................................................................................................\n",
      "----------------------------------------------------------------------\n",
      "Ran 100 tests in 0.225s\n",
      "\n",
      "OK\n"
     ]
    }
   ],
   "source": [
    "test_greater(greater_poo)"
   ]
  },
  {
   "cell_type": "code",
   "execution_count": 15,
   "metadata": {},
   "outputs": [],
   "source": [
    "greater_funcional = (lambda a, b: a if a > b else b)"
   ]
  },
  {
   "cell_type": "code",
   "execution_count": 16,
   "metadata": {},
   "outputs": [
    {
     "name": "stderr",
     "output_type": "stream",
     "text": [
      "....................................................................................................\n",
      "----------------------------------------------------------------------\n",
      "Ran 100 tests in 0.249s\n",
      "\n",
      "OK\n"
     ]
    }
   ],
   "source": [
    "test_greater(greater_funcional)"
   ]
  },
  {
   "cell_type": "markdown",
   "metadata": {},
   "source": [
    "## 2. Ahora escribe una función que devuelva el elemento más grande de una lista numerica"
   ]
  },
  {
   "cell_type": "code",
   "execution_count": 17,
   "metadata": {},
   "outputs": [],
   "source": [
    "#tu codigo aquí\n",
    "def greatest_imperativa(arr):\n",
    "    try:\n",
    "        max_num = arr[0]\n",
    "    except IndexError:\n",
    "        return None  \n",
    "        \n",
    "    for num in arr:\n",
    "        if num > max_num:\n",
    "            max_num = num\n",
    "    return max_num"
   ]
  },
  {
   "cell_type": "code",
   "execution_count": 18,
   "metadata": {},
   "outputs": [
    {
     "name": "stderr",
     "output_type": "stream",
     "text": [
      "....................................................................................................\n",
      "----------------------------------------------------------------------\n",
      "Ran 100 tests in 0.225s\n",
      "\n",
      "OK\n"
     ]
    }
   ],
   "source": [
    "# Para testear tu función\n",
    "test_greatest(greatest_imperativa)"
   ]
  },
  {
   "cell_type": "code",
   "execution_count": 19,
   "metadata": {},
   "outputs": [],
   "source": [
    "class GreatestFinder:\n",
    "\n",
    "    @staticmethod\n",
    "    def __init__(self, arr):\n",
    "        self.arr = arr\n",
    "    \n",
    "    @staticmethod\n",
    "    def greatest_poo(arr):\n",
    "        if not arr:  # Handle the case of an empty array\n",
    "            return None\n",
    "            \n",
    "        max_num = arr[0]  # Start with the first element\n",
    "        \n",
    "        for num in arr:\n",
    "            if num > max_num:\n",
    "                max_num = num\n",
    "        return max_num\n",
    "\n",
    "greatest_poo = GreatestFinder.greatest_poo"
   ]
  },
  {
   "cell_type": "code",
   "execution_count": 20,
   "metadata": {},
   "outputs": [
    {
     "name": "stderr",
     "output_type": "stream",
     "text": [
      "....................................................................................................\n",
      "----------------------------------------------------------------------\n",
      "Ran 100 tests in 0.246s\n",
      "\n",
      "OK\n"
     ]
    }
   ],
   "source": [
    "test_greatest(greatest_poo) "
   ]
  },
  {
   "cell_type": "code",
   "execution_count": 21,
   "metadata": {},
   "outputs": [],
   "source": [
    "from functools import reduce\n",
    "\n",
    "# tu codigo aquí\n",
    "greatest_funcional = lambda arr: reduce(lambda x, y: x if x > y else y, arr) if arr else None"
   ]
  },
  {
   "cell_type": "code",
   "execution_count": 22,
   "metadata": {},
   "outputs": [
    {
     "name": "stderr",
     "output_type": "stream",
     "text": [
      "....................................................................................................\n",
      "----------------------------------------------------------------------\n",
      "Ran 100 tests in 0.324s\n",
      "\n",
      "OK\n"
     ]
    }
   ],
   "source": [
    "test_greatest(greatest_funcional)"
   ]
  },
  {
   "cell_type": "markdown",
   "metadata": {},
   "source": [
    "## 3. Escribe una función que sume todos los elementos de una lista"
   ]
  },
  {
   "cell_type": "code",
   "execution_count": 23,
   "metadata": {},
   "outputs": [],
   "source": [
    "def sum_imperativa(arr):\n",
    "    \n",
    "    if not arr: \n",
    "        return 0\n",
    "\n",
    "    sum_num = 0\n",
    "    \n",
    "    for num in arr:\n",
    "        sum_num += num\n",
    "    return sum_num"
   ]
  },
  {
   "cell_type": "code",
   "execution_count": 24,
   "metadata": {},
   "outputs": [
    {
     "name": "stderr",
     "output_type": "stream",
     "text": [
      "....................................................................................................\n",
      "----------------------------------------------------------------------\n",
      "Ran 100 tests in 0.214s\n",
      "\n",
      "OK\n"
     ]
    }
   ],
   "source": [
    "# Para testear tu función\n",
    "test_sum(sum_imperativa)"
   ]
  },
  {
   "cell_type": "code",
   "execution_count": 25,
   "metadata": {},
   "outputs": [],
   "source": [
    "class Sum:\n",
    "    \n",
    "    @staticmethod\n",
    "    def sum_poo(arr):\n",
    "        if not arr:  # Handle the case of an empty array\n",
    "            return 0\n",
    "        sum_num = 0\n",
    "        for num in arr:\n",
    "            sum_num += num\n",
    "        return sum_num\n",
    "\n",
    "sum_poo = Sum.sum_poo"
   ]
  },
  {
   "cell_type": "code",
   "execution_count": 26,
   "metadata": {},
   "outputs": [
    {
     "name": "stderr",
     "output_type": "stream",
     "text": [
      "....................................................................................................\n",
      "----------------------------------------------------------------------\n",
      "Ran 100 tests in 0.210s\n",
      "\n",
      "OK\n"
     ]
    }
   ],
   "source": [
    "test_sum(sum_poo)"
   ]
  },
  {
   "cell_type": "code",
   "execution_count": 27,
   "metadata": {},
   "outputs": [],
   "source": [
    "from functools import reduce\n",
    "\n",
    "# tu codigo aquí\n",
    "sum_funcional = lambda arr: reduce(lambda x, y: x + y, arr, 0) if arr else 0"
   ]
  },
  {
   "cell_type": "code",
   "execution_count": 28,
   "metadata": {},
   "outputs": [
    {
     "name": "stderr",
     "output_type": "stream",
     "text": [
      "....................................................................................................\n",
      "----------------------------------------------------------------------\n",
      "Ran 100 tests in 0.231s\n",
      "\n",
      "OK\n"
     ]
    }
   ],
   "source": [
    "test_sum(sum_funcional)"
   ]
  },
  {
   "cell_type": "markdown",
   "metadata": {},
   "source": [
    "## 4. Escribe otra función que multiplique todos los elementos de una lista"
   ]
  },
  {
   "cell_type": "code",
   "execution_count": 29,
   "metadata": {},
   "outputs": [],
   "source": [
    "def mult_imperativa(arr):\n",
    "    \n",
    "    if not arr: \n",
    "        return 0\n",
    "\n",
    "    mult_num = 1\n",
    "    \n",
    "    for num in arr:\n",
    "        mult_num *= num\n",
    "    return mult_num"
   ]
  },
  {
   "cell_type": "code",
   "execution_count": 30,
   "metadata": {},
   "outputs": [
    {
     "name": "stderr",
     "output_type": "stream",
     "text": [
      "....................................................................................................\n",
      "----------------------------------------------------------------------\n",
      "Ran 100 tests in 0.225s\n",
      "\n",
      "OK\n"
     ]
    }
   ],
   "source": [
    "# Para testear tu función\n",
    "test_mult(mult_imperativa)"
   ]
  },
  {
   "cell_type": "code",
   "execution_count": 31,
   "metadata": {},
   "outputs": [],
   "source": [
    "class Mult:\n",
    "    \n",
    "    @staticmethod\n",
    "    def mult_poo(arr):\n",
    "        if not arr:  # Handle the case of an empty array\n",
    "            return 0\n",
    "        mult_num = 1\n",
    "        for num in arr:\n",
    "            mult_num *= num\n",
    "        return mult_num\n",
    "\n",
    "mult_poo = Mult.mult_poo"
   ]
  },
  {
   "cell_type": "code",
   "execution_count": 32,
   "metadata": {},
   "outputs": [
    {
     "name": "stderr",
     "output_type": "stream",
     "text": [
      "....................................................................................................\n",
      "----------------------------------------------------------------------\n",
      "Ran 100 tests in 0.229s\n",
      "\n",
      "OK\n"
     ]
    }
   ],
   "source": [
    "test_mult(mult_poo)"
   ]
  },
  {
   "cell_type": "code",
   "execution_count": 33,
   "metadata": {},
   "outputs": [],
   "source": [
    "from functools import reduce\n",
    "\n",
    "\n",
    "mult_funcional = lambda arr: reduce(lambda x, y: x * y, arr, 1) if arr else 0"
   ]
  },
  {
   "cell_type": "code",
   "execution_count": 34,
   "metadata": {},
   "outputs": [
    {
     "name": "stderr",
     "output_type": "stream",
     "text": [
      "....................................................................................................\n",
      "----------------------------------------------------------------------\n",
      "Ran 100 tests in 0.253s\n",
      "\n",
      "OK\n"
     ]
    }
   ],
   "source": [
    "test_mult(mult_funcional)"
   ]
  },
  {
   "cell_type": "markdown",
   "metadata": {},
   "source": [
    "## 5. Ahora combina esas dos ideas y escribe una función que reciba una lista y ya sea \"+\" o \"*\", y produzca el resultado acorde"
   ]
  },
  {
   "cell_type": "code",
   "execution_count": 35,
   "metadata": {},
   "outputs": [],
   "source": [
    "def operaciones_imperativa(arr, op):\n",
    "    \n",
    "    if not arr: \n",
    "        return 0\n",
    "\n",
    "    if op == '+':\n",
    "        resultado = sum_imperativa(arr)\n",
    "\n",
    "    elif op =='*':\n",
    "        resultado = mult_imperativa(arr)\n",
    "    else:\n",
    "        return \"Unsupported operation\"\n",
    "\n",
    "    return resultado\n"
   ]
  },
  {
   "cell_type": "code",
   "execution_count": 36,
   "metadata": {},
   "outputs": [
    {
     "name": "stderr",
     "output_type": "stream",
     "text": [
      "....................................................................................................\n",
      "----------------------------------------------------------------------\n",
      "Ran 100 tests in 0.280s\n",
      "\n",
      "OK\n"
     ]
    }
   ],
   "source": [
    "# Para testear tu función\n",
    "test_operations(operaciones_imperativa)"
   ]
  },
  {
   "cell_type": "code",
   "execution_count": 37,
   "metadata": {},
   "outputs": [],
   "source": [
    "class Operaciones:\n",
    "    \n",
    "    @staticmethod\n",
    "    def operaciones_poo(arr, op):\n",
    "        if not arr: \n",
    "            return 0\n",
    "\n",
    "        if op == '+':\n",
    "            resultado = Sum.sum_poo(arr)\n",
    "        elif op == '*':\n",
    "            resultado = Mult.mult_poo(arr)\n",
    "        else:\n",
    "            return \"Unsupported operation\"\n",
    "            \n",
    "        return resultado\n",
    "\n",
    "operaciones_poo = Operaciones.operaciones_poo\n"
   ]
  },
  {
   "cell_type": "code",
   "execution_count": 38,
   "metadata": {},
   "outputs": [
    {
     "name": "stderr",
     "output_type": "stream",
     "text": [
      "....................................................................................................\n",
      "----------------------------------------------------------------------\n",
      "Ran 100 tests in 0.258s\n",
      "\n",
      "OK\n"
     ]
    }
   ],
   "source": [
    "test_operations(operaciones_poo)"
   ]
  },
  {
   "cell_type": "code",
   "execution_count": 39,
   "metadata": {},
   "outputs": [],
   "source": [
    "from functools import reduce\n",
    "\n",
    "operaciones_funcional = lambda arr, op: (0 if arr == [] else sum_funcional(arr) if op == \"+\" else mult_funcional(arr) if op == \"*\" else ValueError(\"Unsupported operation\"))"
   ]
  },
  {
   "cell_type": "code",
   "execution_count": 40,
   "metadata": {},
   "outputs": [
    {
     "name": "stderr",
     "output_type": "stream",
     "text": [
      "....................................................................................................\n",
      "----------------------------------------------------------------------\n",
      "Ran 100 tests in 0.244s\n",
      "\n",
      "OK\n"
     ]
    }
   ],
   "source": [
    "test_operations(operaciones_funcional)"
   ]
  },
  {
   "cell_type": "markdown",
   "metadata": {},
   "source": [
    "## 6. Escribe una función que devuelva el factorial de un número."
   ]
  },
  {
   "cell_type": "code",
   "execution_count": 41,
   "metadata": {},
   "outputs": [],
   "source": [
    "# Fórmula factorial\n",
    "# n! = n * (n - 1) *...*1\n",
    "\n",
    "# Este código define una función llamada \"factorial\" que toma una entrada \"n\". La función utiliza un bucle for para iterar a través del rango de números\n",
    "# desde 1 hasta n+1. Para cada número en ese rango, multiplica el valor actual de x por el número en el rango. Al final del bucle,\n",
    "# la función devuelve el valor final de x, que será el factorial del número de entrada \"n\".\n",
    "\n",
    "# El factorial de un entero positivo n es el producto de todos los enteros positivos menores o iguales a n.\n",
    "# Por ejemplo, el factorial de 6 (escrito \"6!\") es 6 * 5 * 4 * 3 * 2 * 1 = 720.\n",
    "\n",
    "# Así que esta función toma una entrada de cualquier entero positivo y devuelve el factorial de ese número."
   ]
  },
  {
   "cell_type": "code",
   "execution_count": 42,
   "metadata": {},
   "outputs": [],
   "source": [
    "def factorial_imperativa(n):\n",
    "    if n < 0:\n",
    "        raise ValueError(\"El factorial no está definido para números negativos.\") \n",
    "    if n == 0 or n == 1:\n",
    "        return 1\n",
    "    return n * factorial_imperativa(n - 1)"
   ]
  },
  {
   "cell_type": "code",
   "execution_count": 43,
   "metadata": {},
   "outputs": [
    {
     "name": "stderr",
     "output_type": "stream",
     "text": [
      "....................................................................................................\n",
      "----------------------------------------------------------------------\n",
      "Ran 100 tests in 0.218s\n",
      "\n",
      "OK\n"
     ]
    }
   ],
   "source": [
    "# Para testear tu función\n",
    "test_factorial(factorial_imperativa)"
   ]
  },
  {
   "cell_type": "code",
   "execution_count": 44,
   "metadata": {},
   "outputs": [
    {
     "name": "stderr",
     "output_type": "stream",
     "text": [
      "....................................................................................................\n",
      "----------------------------------------------------------------------\n",
      "Ran 100 tests in 0.202s\n",
      "\n",
      "OK\n"
     ]
    }
   ],
   "source": [
    "class CalculadoraFactorial:\n",
    "    @staticmethod\n",
    "    def factorial_poo(n):\n",
    "        if n<0:\n",
    "            raise ValueError(\"El factorial no está definido para números negativos.\")\n",
    "        if n==0 or n==1:\n",
    "            return 1\n",
    "        return n* CalculadoraFactorial.factorial_poo(n-1)\n",
    "\n",
    "factorial_poo = CalculadoraFactorial.factorial_poo\n",
    "\n"
   ]
  },
  {
   "cell_type": "code",
   "execution_count": 45,
   "metadata": {},
   "outputs": [
    {
     "name": "stderr",
     "output_type": "stream",
     "text": [
      "....................................................................................................\n",
      "----------------------------------------------------------------------\n",
      "Ran 100 tests in 0.282s\n",
      "\n",
      "OK\n"
     ]
    }
   ],
   "source": [
    "test_factorial(factorial_poo)"
   ]
  },
  {
   "cell_type": "code",
   "execution_count": 46,
   "metadata": {},
   "outputs": [],
   "source": [
    "factorial_funcional = lambda n: (\"El factorial no está definido para números negativos.\") if n<0 else (1 if n==0 or n==1 else (n* factorial_funcional(n-1)))\n",
    "\n"
   ]
  },
  {
   "cell_type": "code",
   "execution_count": 47,
   "metadata": {},
   "outputs": [
    {
     "name": "stderr",
     "output_type": "stream",
     "text": [
      "....................................................................................................\n",
      "----------------------------------------------------------------------\n",
      "Ran 100 tests in 0.269s\n",
      "\n",
      "OK\n"
     ]
    }
   ],
   "source": [
    "test_factorial(factorial_funcional)"
   ]
  },
  {
   "cell_type": "markdown",
   "metadata": {},
   "source": [
    "## 7. Escribe una función que tome una lista y devuelva una lista de los valores únicos.\n",
    "\n",
    "`NOTE: No podemos usar set. 🤔`"
   ]
  },
  {
   "cell_type": "code",
   "execution_count": 48,
   "metadata": {},
   "outputs": [],
   "source": [
    "def unique_imperativa(arr):\n",
    "    unique_list =[]\n",
    "    index = 0\n",
    "\n",
    "    while True:\n",
    "        try:\n",
    "            item = arr[index]\n",
    "            is_unique = True\n",
    "            unique_index = 0\n",
    "\n",
    "            while True:\n",
    "                try:\n",
    "                    if unique_list[unique_index] == item:\n",
    "                        is_unique = False\n",
    "                        break\n",
    "                    unique_index += 1\n",
    "                except IndexError:\n",
    "                    break\n",
    "\n",
    "            if is_unique:\n",
    "                unique_list.append(item)\n",
    "\n",
    "            index += 1\n",
    "\n",
    "        except IndexError:\n",
    "            break\n",
    "\n",
    "    return unique_list"
   ]
  },
  {
   "cell_type": "code",
   "execution_count": 49,
   "metadata": {},
   "outputs": [
    {
     "name": "stderr",
     "output_type": "stream",
     "text": [
      "....................................................................................................\n",
      "----------------------------------------------------------------------\n",
      "Ran 100 tests in 0.578s\n",
      "\n",
      "OK\n"
     ]
    }
   ],
   "source": [
    "# Para testear tu función \n",
    "test_unique(unique_imperativa)"
   ]
  },
  {
   "cell_type": "code",
   "execution_count": 50,
   "metadata": {},
   "outputs": [],
   "source": [
    "class UniqueFinder:\n",
    "    @staticmethod\n",
    "    def unique_poo (arr):\n",
    "        unique_list = []\n",
    "        index = 0\n",
    "\n",
    "        while True:\n",
    "            try:\n",
    "                item = arr[index]\n",
    "                if UniqueFinder.is_unique(item, unique_list):\n",
    "                    unique_list.append(item)\n",
    "                index += 1\n",
    "\n",
    "            except IndexError: \n",
    "                break\n",
    "\n",
    "        return unique_list\n",
    "\n",
    "    @staticmethod\n",
    "    def is_unique(item, unique_list):\n",
    "        unique_index = 0\n",
    "\n",
    "        while True:\n",
    "             try:\n",
    "                 if unique_list[unique_index] == item:\n",
    "                     return False\n",
    "                 unique_index += 1\n",
    "             except IndexError:\n",
    "                 break\n",
    "\n",
    "        return True\n",
    "\n",
    "unique_poo = UniqueFinder.unique_poo\n"
   ]
  },
  {
   "cell_type": "code",
   "execution_count": 51,
   "metadata": {},
   "outputs": [
    {
     "name": "stderr",
     "output_type": "stream",
     "text": [
      "....................................................................................................\n",
      "----------------------------------------------------------------------\n",
      "Ran 100 tests in 0.646s\n",
      "\n",
      "OK\n"
     ]
    }
   ],
   "source": [
    "test_unique(unique_poo)"
   ]
  },
  {
   "cell_type": "code",
   "execution_count": 52,
   "metadata": {},
   "outputs": [],
   "source": [
    "unique_funcional = lambda arr: reduce (lambda acc, item: acc + [item] if reduce (lambda x,y: x or (y == item), acc, False) ==False else acc, arr, [])\n"
   ]
  },
  {
   "cell_type": "code",
   "execution_count": 53,
   "metadata": {},
   "outputs": [
    {
     "name": "stderr",
     "output_type": "stream",
     "text": [
      "....................................................................................................\n",
      "----------------------------------------------------------------------\n",
      "Ran 100 tests in 1.444s\n",
      "\n",
      "OK\n"
     ]
    }
   ],
   "source": [
    "test_unique(unique_funcional)"
   ]
  },
  {
   "cell_type": "markdown",
   "metadata": {},
   "source": [
    "## 8. Escribe una función que devuelva la moda de una lista, es decir: el elemento que aparece más veces.\n",
    "\n",
    "`NOTE: No se debe usar count... 🧐`"
   ]
  },
  {
   "cell_type": "code",
   "execution_count": 62,
   "metadata": {},
   "outputs": [],
   "source": [
    "def moda_imperativa(arr):\n",
    "    unique_list = unique_imperativa(arr)  # Get a list of unique elements from the array\n",
    "    max_frecuencia = -1  # Initialize the maximum frequency to a very low number\n",
    "    moda = None          # Initialize moda (mode) to None\n",
    "\n",
    "    unique_index = 0\n",
    "    while True:  # Loop through each unique element\n",
    "        try:\n",
    "            num = unique_list[unique_index]  # Get the current unique number\n",
    "            frecuencia = 0  # Initialize frequency counter for this number\n",
    "            index = 0       # Start at the first element of the original array\n",
    "\n",
    "            while True:  # Loop through the original array to count occurrences of `num`\n",
    "                try:\n",
    "                    if arr[index] == num:  # If the element matches the current unique number\n",
    "                        frecuencia += 1    # Increment the frequency counter\n",
    "                    index += 1             # Move to the next element in the array\n",
    "                except IndexError:          # If we go past the end of the array, stop the loop\n",
    "                    break\n",
    "\n",
    "            if frecuencia > max_frecuencia:  # If this number occurs more frequently than the current max\n",
    "                max_frecuencia = frecuencia  # Update the maximum frequency\n",
    "                moda = num                   # Update the mode to this number\n",
    "\n",
    "            unique_index += 1  # Move to the next unique element\n",
    "\n",
    "        except IndexError:  # If we go past the end of the unique list, stop the loop\n",
    "            break\n",
    "\n",
    "    return moda  # Return the number with the highest frequency (the mode)\n"
   ]
  },
  {
   "cell_type": "code",
   "execution_count": 63,
   "metadata": {
    "scrolled": true
   },
   "outputs": [
    {
     "name": "stderr",
     "output_type": "stream",
     "text": [
      "....................................................................................................\n",
      "----------------------------------------------------------------------\n",
      "Ran 100 tests in 0.412s\n",
      "\n",
      "OK\n"
     ]
    }
   ],
   "source": [
    "# Para testear tu función\n",
    "test_mode(moda_imperativa)"
   ]
  },
  {
   "cell_type": "code",
   "execution_count": 64,
   "metadata": {},
   "outputs": [],
   "source": [
    "class CalculadoraModa:\n",
    "    @staticmethod\n",
    "    def moda_poo(arr):\n",
    "        unique_list = unique_poo(arr)\n",
    "        max_frecuencia = -1\n",
    "        moda = None\n",
    "        unique_index = 0\n",
    "\n",
    "        while True:\n",
    "            try:\n",
    "                num = unique_list [unique_index]\n",
    "                frecuencia = CalculadoraModa.contar_frecuencia(arr,num)\n",
    "                if frecuencia > max_frecuencia:\n",
    "                    max_frecuencia = frecuencia\n",
    "                    moda = num\n",
    "\n",
    "                unique_index += 1\n",
    "            except IndexError:\n",
    "                break\n",
    "\n",
    "        return moda\n",
    "\n",
    "    @staticmethod\n",
    "    def contar_frecuencia(arr,num):\n",
    "        frecuencia = 0\n",
    "        index=0\n",
    "\n",
    "        while True:\n",
    "            try:\n",
    "                if arr[index] == num:\n",
    "                    frecuencia += 1\n",
    "                index +=1\n",
    "            except IndexError:\n",
    "                break\n",
    "\n",
    "        return frecuencia\n",
    "\n",
    "mode_poo = CalculadoraModa.moda_poo"
   ]
  },
  {
   "cell_type": "code",
   "execution_count": 65,
   "metadata": {},
   "outputs": [
    {
     "name": "stderr",
     "output_type": "stream",
     "text": [
      "....................................................................................................\n",
      "----------------------------------------------------------------------\n",
      "Ran 100 tests in 0.377s\n",
      "\n",
      "OK\n"
     ]
    }
   ],
   "source": [
    "test_mode(mode_poo)"
   ]
  },
  {
   "cell_type": "code",
   "execution_count": 66,
   "metadata": {},
   "outputs": [],
   "source": [
    "def mode_funcional(arr):\n",
    "    \n",
    "    unique_items = unique_funcional(arr)\n",
    "\n",
    "    count_occurrences = lambda item, arr: reduce(\n",
    "        lambda count, x: count + 1 if x == item else count, arr, 0\n",
    "    ) \n",
    "\n",
    "    frequency = reduce(\n",
    "        lambda acc, item: acc + [(item, count_occurrences(item, arr))], \n",
    "        unique_items, []\n",
    "    )\n",
    "\n",
    "    moda = reduce(\n",
    "        lambda acc, item: item if item[1] > acc[1] else acc, \n",
    "        frequency, (None, 0)\n",
    "    )\n",
    "\n",
    "    return moda[0] if moda[0] is not None else None"
   ]
  },
  {
   "cell_type": "code",
   "execution_count": 67,
   "metadata": {},
   "outputs": [
    {
     "name": "stderr",
     "output_type": "stream",
     "text": [
      "....................................................................................................\n",
      "----------------------------------------------------------------------\n",
      "Ran 100 tests in 0.417s\n",
      "\n",
      "OK\n"
     ]
    }
   ],
   "source": [
    "test_mode(mode_funcional)"
   ]
  },
  {
   "cell_type": "markdown",
   "metadata": {},
   "source": [
    "## 9. Escribe una función que calcule la desviación estándar de una lista.\n",
    "`NOTE: no utilices librerías ni ninguna función ya construida. 😉`"
   ]
  },
  {
   "cell_type": "code",
   "execution_count": 68,
   "metadata": {},
   "outputs": [],
   "source": [
    "def st_dev_imperativa(arr):\n",
    "    if arr == []:\n",
    "        raise ValueError(\"La lista no puede estar vacía.\")\n",
    "\n",
    "    sum_total = sum_imperativa(arr)\n",
    "    count = 0\n",
    "    while True:\n",
    "        try:\n",
    "            _ = arr[count]\n",
    "            count += 1\n",
    "        except IndexError:\n",
    "            break\n",
    "    \n",
    "    mean = sum_total / count\n",
    "    \n",
    "    variance_sum = 0\n",
    "    index = 0\n",
    "    \n",
    "    while True:\n",
    "        try:\n",
    "            num = arr[index]\n",
    "            variance_sum += (num - mean) ** 2\n",
    "            index += 1\n",
    "        except IndexError:\n",
    "            break\n",
    "\n",
    "    variance = variance_sum / (count - 1) if count > 1 else 0 \n",
    "    return variance ** 0.5 \n"
   ]
  },
  {
   "cell_type": "code",
   "execution_count": 69,
   "metadata": {},
   "outputs": [
    {
     "name": "stderr",
     "output_type": "stream",
     "text": [
      "....................................................................................................\n",
      "----------------------------------------------------------------------\n",
      "Ran 100 tests in 0.255s\n",
      "\n",
      "OK\n"
     ]
    }
   ],
   "source": [
    "# Para testear tu función\n",
    "test_stdev(st_dev_imperativa)"
   ]
  },
  {
   "cell_type": "code",
   "execution_count": 70,
   "metadata": {},
   "outputs": [],
   "source": [
    "class StatsCalculator:\n",
    "    @staticmethod\n",
    "    def st_dev_poo(arr):\n",
    "        if arr == []:\n",
    "            raise ValueError(\"La lista no puede estar vacía.\")\n",
    "\n",
    "        sum_total = sum_poo(arr)\n",
    "        count = StatsCalculator.contar_elementos(arr)\n",
    "        mean = sum_total / count\n",
    "        variance_sum = StatsCalculator.calcular_varianza(arr, mean)\n",
    "        variance = variance_sum / (count - 1) if count > 1 else 0\n",
    "            \n",
    "        return variance ** 0.5\n",
    "        \n",
    "    @staticmethod\n",
    "    def contar_elementos(arr):\n",
    "        count = 0\n",
    "        while True:\n",
    "            try:\n",
    "                _ = arr[count]\n",
    "                count += 1\n",
    "            except IndexError:\n",
    "                    break\n",
    "        return count\n",
    "        \n",
    "    @staticmethod\n",
    "    def calcular_varianza(arr, mean):\n",
    "        variance_sum = 0\n",
    "        index = 0\n",
    "\n",
    "        while True:\n",
    "            try:\n",
    "                num = arr[index]\n",
    "                variance_sum += (num - mean) ** 2\n",
    "                index += 1\n",
    "            except IndexError:\n",
    "                break\n",
    "        return variance_sum\n",
    "        \n",
    "st_dev_poo = StatsCalculator.st_dev_poo\n"
   ]
  },
  {
   "cell_type": "code",
   "execution_count": 71,
   "metadata": {},
   "outputs": [
    {
     "name": "stderr",
     "output_type": "stream",
     "text": [
      "....................................................................................................\n",
      "----------------------------------------------------------------------\n",
      "Ran 100 tests in 0.282s\n",
      "\n",
      "OK\n"
     ]
    }
   ],
   "source": [
    "test_stdev(st_dev_poo)"
   ]
  },
  {
   "cell_type": "code",
   "execution_count": 72,
   "metadata": {},
   "outputs": [],
   "source": [
    "def st_dev_funcional(arr):\n",
    "    if arr == []:\n",
    "        raise ValueError(\"La lista no puede estar vacía.\")\n",
    "\n",
    "    count = reduce(lambda acc, _: acc + 1, arr, 0)\n",
    "    mean = sum_funcional(arr) / count\n",
    "\n",
    "    variance_sum = reduce(lambda acc, num: acc + (num - mean) ** 2, arr, 0)\n",
    "\n",
    "    variance = variance_sum / (count - 1) if count > 1 else 0\n",
    "    return variance ** 0.5"
   ]
  },
  {
   "cell_type": "code",
   "execution_count": 73,
   "metadata": {},
   "outputs": [
    {
     "name": "stderr",
     "output_type": "stream",
     "text": [
      "....................................................................................................\n",
      "----------------------------------------------------------------------\n",
      "Ran 100 tests in 0.321s\n",
      "\n",
      "OK\n"
     ]
    }
   ],
   "source": [
    "test_stdev(st_dev_funcional)"
   ]
  },
  {
   "cell_type": "markdown",
   "metadata": {},
   "source": [
    "## 10. Escribe una función para verificar si una cadena es un pangrama, es decir: si contiene todas las letras del alfabeto al menos una vez. Ten en cuenta que las cadenas pueden contener caracteres que no son letras."
   ]
  },
  {
   "cell_type": "code",
   "execution_count": 74,
   "metadata": {},
   "outputs": [],
   "source": [
    "def is_pangram_imperativa(s):\n",
    "    \n",
    "    alphabet = \"abcdefghijklmnopqrstuvwxyz\"\n",
    "    chars = []\n",
    "    index = 0\n",
    "    \n",
    "    while True:\n",
    "        try:\n",
    "            char = s[index]\n",
    "            if char.isalpha():\n",
    "                chars.append(char.lower())\n",
    "            index += 1\n",
    "        except IndexError:\n",
    "            break\n",
    "            \n",
    "    unique_chars = unique_imperativa(chars)\n",
    "    index = 0\n",
    "    is_pangram = True\n",
    "\n",
    "    while True:\n",
    "        try:\n",
    "            char = alphabet[index]\n",
    "            char_found = False\n",
    "            unique_index = 0\n",
    "            while True:\n",
    "                try:\n",
    "                    if unique_chars[unique_index] == char:\n",
    "                        char_found = True\n",
    "                        break\n",
    "                    unique_index += 1\n",
    "                except IndexError:\n",
    "                    break\n",
    "                    \n",
    "            if not char_found:\n",
    "                is_pangram = False\n",
    "                break\n",
    "            index += 1\n",
    "        except IndexError:\n",
    "            break\n",
    "\n",
    "    return is_pangram\n",
    "\n"
   ]
  },
  {
   "cell_type": "code",
   "execution_count": 75,
   "metadata": {},
   "outputs": [
    {
     "name": "stderr",
     "output_type": "stream",
     "text": [
      "..............................\n",
      "----------------------------------------------------------------------\n",
      "Ran 30 tests in 0.156s\n",
      "\n",
      "OK\n"
     ]
    }
   ],
   "source": [
    "# Para testear tu función\n",
    "test_pangram(is_pangram_imperativa)"
   ]
  },
  {
   "cell_type": "code",
   "execution_count": 76,
   "metadata": {},
   "outputs": [],
   "source": [
    "class PangramChecker:\n",
    "    @staticmethod\n",
    "    def is_pangram_poo(s):\n",
    "        alphabet = \"abcdefghijklmnopqrstuvwxyz\"\n",
    "        chars = PangramChecker.extraer_letras(s)\n",
    "        unique_chars = unique_poo(chars)\n",
    "        return PangramChecker.verificar_pangram(unique_chars, alphabet)\n",
    "    \n",
    "    @staticmethod\n",
    "    def extraer_letras(s):\n",
    "        chars = []\n",
    "        index = 0\n",
    "\n",
    "        while True:\n",
    "            try:\n",
    "                char = s[index]\n",
    "                if char.isalpha():\n",
    "                    chars.append(char.lower())\n",
    "                index += 1\n",
    "            except IndexError:\n",
    "                break\n",
    "        return chars\n",
    "        \n",
    "    @staticmethod\n",
    "    def verificar_pangram(unique_chars, alphabet):\n",
    "        index = 0\n",
    "\n",
    "        while True:\n",
    "            try:\n",
    "                char = alphabet[index]\n",
    "                char_found = PangramChecker.buscar_caracter(unique_chars, char)\n",
    "                if not char_found:\n",
    "                    return False\n",
    "                index += 1\n",
    "            except IndexError:\n",
    "                break\n",
    "        return True\n",
    "        \n",
    "    @staticmethod\n",
    "    def buscar_caracter(unique_chars, char):\n",
    "        unique_index = 0\n",
    "\n",
    "        while True:\n",
    "            try:\n",
    "                if unique_chars[unique_index] == char:\n",
    "                    return True\n",
    "                unique_index += 1\n",
    "            except IndexError:\n",
    "                return False\n",
    "        \n",
    "is_pangram_poo = PangramChecker.is_pangram_poo\n"
   ]
  },
  {
   "cell_type": "code",
   "execution_count": null,
   "metadata": {},
   "outputs": [],
   "source": []
  },
  {
   "cell_type": "code",
   "execution_count": 77,
   "metadata": {},
   "outputs": [
    {
     "name": "stderr",
     "output_type": "stream",
     "text": [
      "..............................\n",
      "----------------------------------------------------------------------\n",
      "Ran 30 tests in 0.173s\n",
      "\n",
      "OK\n"
     ]
    }
   ],
   "source": [
    "test_pangram(is_pangram_poo)"
   ]
  },
  {
   "cell_type": "code",
   "execution_count": 78,
   "metadata": {},
   "outputs": [],
   "source": [
    "def is_pangram_funcional(s):\n",
    "    alphabet = \"abcdefghijklmnopqrstuvwxyz\"\n",
    "    chars = reduce(\n",
    "        lambda acc, char: acc + [char.lower()] if char.isalpha() else acc,\n",
    "        s,\n",
    "        []\n",
    "    )\n",
    "    unique_chars = unique_imperativa(chars)\n",
    "    contains = lambda char: reduce(\n",
    "        lambda acc, x: acc or (x == char), unique_chars, False\n",
    "    )\n",
    "    is_pangram = reduce(\n",
    "        lambda acc, char: acc and contains(char),\n",
    "        alphabet,\n",
    "        True\n",
    "    )\n",
    "    return is_pangram\n"
   ]
  },
  {
   "cell_type": "code",
   "execution_count": 79,
   "metadata": {},
   "outputs": [
    {
     "name": "stderr",
     "output_type": "stream",
     "text": [
      "..............................\n",
      "----------------------------------------------------------------------\n",
      "Ran 30 tests in 0.180s\n",
      "\n",
      "OK\n"
     ]
    }
   ],
   "source": [
    "# Test para la función funcional\n",
    "test_pangram(is_pangram_funcional)"
   ]
  },
  {
   "cell_type": "markdown",
   "metadata": {},
   "source": [
    "## 11. Escribe una función que reciba una cadena de palabras separadas por comas y devuelva una cadena de palabras separadas por comas ordenadas alfabéticamente.\n",
    "\n",
    "`NOTA: Puedes usar sorted pero no split y definitivamente no join! 🤪`"
   ]
  },
  {
   "cell_type": "code",
   "execution_count": 95,
   "metadata": {},
   "outputs": [],
   "source": [
    "def sort_words_imperativa(s):\n",
    "    words = []            # This will store individual words we extract from the input string `s`\n",
    "    current_word = ''      # This stores the word currently being constructed\n",
    "    index = 0              # This will be used to go through each character in the string `s`\n",
    "\n",
    "    while True:\n",
    "        try:\n",
    "            char = s[index]          # Access the character at position `index`\n",
    "            if char == ',':           # If the character is a comma (i.e., end of a word)\n",
    "                if current_word:      # Check if `current_word` is not empty (we've built a word)\n",
    "                    words.append(current_word)   # Add the current word to the `words` list\n",
    "                    current_word = ''            # Reset `current_word` for the next word\n",
    "            else:\n",
    "                current_word += char  # If it's not a comma, keep adding the character to `current_word`\n",
    "            index += 1                # Move to the next character in the string\n",
    "        except IndexError:             # This error occurs when we go past the end of the string\n",
    "            break                      # Stop the loop when there's no more characters to process\n",
    "            \n",
    "    if current_word:                # After the loop ends, if there's still a word left\n",
    "        words.append(current_word)  # Add it to the `words` list\n",
    "\n",
    "    sorted_words = sorted(words)  # Sort the words alphabetically\n",
    "\n",
    "    result = ''       # This will hold the sorted words as a single string\n",
    "    index = 0         # Reinitialize the index to use it for the sorted words\n",
    "\n",
    "    while True:\n",
    "        try:\n",
    "            word = sorted_words[index]   # Get the word at the current index from `sorted_words`\n",
    "            result += word + ','         # Add the word to `result`, followed by a comma\n",
    "            index += 1                   # Move to the next word\n",
    "        except IndexError:               # This will happen when we go beyond the last word\n",
    "            break                        # Stop the loop\n",
    "\n",
    "    return result[:-1] if result else result   # Remove the last comma and return the result\n",
    "\n",
    "\n"
   ]
  },
  {
   "cell_type": "code",
   "execution_count": 94,
   "metadata": {},
   "outputs": [
    {
     "name": "stderr",
     "output_type": "stream",
     "text": [
      "....................................................................................................\n",
      "----------------------------------------------------------------------\n",
      "Ran 100 tests in 0.262s\n",
      "\n",
      "OK\n"
     ]
    }
   ],
   "source": [
    "# Para testear tu función \n",
    "test_alpha(sort_words_imperativa)"
   ]
  },
  {
   "cell_type": "code",
   "execution_count": 103,
   "metadata": {},
   "outputs": [],
   "source": [
    "class WordSorter:\n",
    "    @staticmethod\n",
    "    def sort_words_poo(s):\n",
    "        # Extrae las palabras de la cadena y las ordena alfabéticamente\n",
    "        words = WordSorter.extraer_palabras(s)  # Extrae palabras separadas por comas\n",
    "        sorted_words = sorted(words)  # Ordena las palabras alfabéticamente\n",
    "        return WordSorter.formar_resultado(sorted_words)  # Forma y devuelve la cadena ordenada\n",
    "\n",
    "    @staticmethod\n",
    "    def extraer_palabras(s):\n",
    "        words = []  # Lista para almacenar las palabras extraídas\n",
    "        current_word = ''  # Variable temporal para la palabra actual\n",
    "        index = 0  # Índice para recorrer la cadena\n",
    "\n",
    "        while True:\n",
    "            try:\n",
    "                char = s[index]  # Obtiene el carácter en la posición actual\n",
    "                if char == ',':  # Si encuentra una coma, finaliza la palabra actual\n",
    "                    if current_word:  # Si hay una palabra en construcción\n",
    "                        words.append(current_word)  # Añade la palabra a la lista\n",
    "                        current_word = ''  # Resetea la palabra actual\n",
    "                else:\n",
    "                    current_word += char  # Añade el carácter a la palabra actual\n",
    "                index += 1  # Incrementa el índice para seguir recorriendo la cadena\n",
    "            except IndexError:  # Si llega al final de la cadena, termina el bucle\n",
    "                break\n",
    "        \n",
    "        if current_word:  # Si queda una palabra al final, añádela a la lista\n",
    "            words.append(current_word)\n",
    "        \n",
    "        return words  # Devuelve la lista de palabras extraídas\n",
    "\n",
    "    @staticmethod\n",
    "    def formar_resultado(sorted_words):\n",
    "        result = ''  # Cadena para almacenar el resultado final\n",
    "        index = 0  # Índice para recorrer la lista de palabras ordenadas\n",
    "\n",
    "        while True:\n",
    "            try:\n",
    "                word = sorted_words[index]  # Obtiene la palabra en la posición actual\n",
    "                result += word + ','  # Añade la palabra seguida de una coma al resultado\n",
    "                index += 1  # Incrementa el índice para seguir recorriendo la lista\n",
    "            except IndexError:  # Si llega al final de la lista, termina el bucle\n",
    "                break\n",
    "        \n",
    "        # Elimina la coma final si la cadena no está vacía y devuelve el resultado\n",
    "        return result[:-1] if result else result\n",
    "\n",
    "sort_words_poo = WordSorter.sort_words_poo\n"
   ]
  },
  {
   "cell_type": "code",
   "execution_count": 104,
   "metadata": {},
   "outputs": [
    {
     "name": "stderr",
     "output_type": "stream",
     "text": [
      "....................................................................................................\n",
      "----------------------------------------------------------------------\n",
      "Ran 100 tests in 0.365s\n",
      "\n",
      "OK\n"
     ]
    }
   ],
   "source": [
    "test_alpha(sort_words_poo)"
   ]
  },
  {
   "cell_type": "code",
   "execution_count": 109,
   "metadata": {},
   "outputs": [],
   "source": [
    "def sort_words_funcional(s):\n",
    "    # Use reduce to extract words from the string by splitting on commas\n",
    "    words = reduce(\n",
    "        # Lambda function to build a list of words\n",
    "        lambda acc, char: (\n",
    "            # If the character is not a comma, append it to the last word\n",
    "            acc[:-1] + [acc[-1] + char] if char != ',' \n",
    "            # If it's a comma, start a new word (add an empty string)\n",
    "            else acc + ['']\n",
    "        ),\n",
    "        s,  # The input string to process\n",
    "        ['']  # Initialize the accumulator with an empty string\n",
    "    )\n",
    "    \n",
    "    # Filter out any empty strings from the list of words and sort them\n",
    "    sorted_words = sorted(filter(lambda word: word != '', words))\n",
    "    \n",
    "    # Use reduce to concatenate sorted words into a single string separated by commas\n",
    "    result = reduce(\n",
    "        # Lambda function to build the result string\n",
    "        lambda acc, word: acc + word + ',', \n",
    "        sorted_words,  # The list of sorted words to concatenate\n",
    "        ''  # Initialize the accumulator with an empty string\n",
    "    )\n",
    "    \n",
    "    # Return the final result string, omitting the trailing comma if not empty\n",
    "    return result[:-1] if result else result  # Remove the last comma if result is not empty\n",
    "\n"
   ]
  },
  {
   "cell_type": "code",
   "execution_count": 110,
   "metadata": {},
   "outputs": [
    {
     "name": "stderr",
     "output_type": "stream",
     "text": [
      "....................................................................................................\n",
      "----------------------------------------------------------------------\n",
      "Ran 100 tests in 0.360s\n",
      "\n",
      "OK\n"
     ]
    }
   ],
   "source": [
    "test_alpha(sort_words_funcional)"
   ]
  },
  {
   "cell_type": "markdown",
   "metadata": {},
   "source": [
    "## 12. Escribe una función para verificar si una contraseña dada es fuerte (al menos 8 caracteres, al menos una minúscula, al menos una mayúscula, al menos un número y al menos un carácter especial). Debería devolver True si es fuerte y False si no lo es. Se permit el uso de regex"
   ]
  },
  {
   "cell_type": "code",
   "execution_count": 117,
   "metadata": {},
   "outputs": [],
   "source": [
    "import re  # Import the regular expressions module for pattern matching\n",
    "\n",
    "def is_strong_password_imperativa(password):\n",
    "    # Define a regular expression pattern for a strong password\n",
    "    pattern = (\n",
    "        r'^(?=.*[a-z])'                      # At least one lowercase letter\n",
    "        r'(?=.*[A-Z])'                      # At least one uppercase letter\n",
    "        r'(?=.*\\d)'                         # At least one digit\n",
    "        r'(?=.*[#@!$%&()^*[\\]{}])'         # At least one special character\n",
    "        r'.{8,}$'                           # Minimum length of 8 characters\n",
    "    )\n",
    "\n",
    "    # Use re.match to check if the password matches the defined pattern\n",
    "    return bool(re.match(pattern, password))  # Return True if match found, otherwise False\n"
   ]
  },
  {
   "cell_type": "code",
   "execution_count": 118,
   "metadata": {},
   "outputs": [
    {
     "name": "stderr",
     "output_type": "stream",
     "text": [
      "....................................................................................................\n",
      "----------------------------------------------------------------------\n",
      "Ran 100 tests in 0.313s\n",
      "\n",
      "OK\n"
     ]
    }
   ],
   "source": [
    "# Para testear tu función\n",
    "test_pass(is_strong_password_imperativa)"
   ]
  },
  {
   "cell_type": "code",
   "execution_count": 120,
   "metadata": {},
   "outputs": [],
   "source": [
    "\n",
    "\n",
    "class PasswordValidator:\n",
    "    @staticmethod\n",
    "    def is_strong_password_poo(password):\n",
    "        # Define a regular expression pattern for a strong password\n",
    "        pattern = r'^(?=.*[a-z])'                      # At least one lowercase letter\n",
    "        pattern += r'(?=.*[A-Z])'                      # At least one uppercase letter\n",
    "        pattern += r'(?=.*\\d)'                         # At least one digit\n",
    "        pattern += r'(?=.*[#@!$%&()^*[\\]{}])'         # At least one special character\n",
    "        pattern += r'.{8,}$'                           # Minimum length of 8 characters\n",
    "\n",
    "        # Use re.match to check if the password matches the defined pattern\n",
    "        return bool(re.match(pattern, password))  # Return True if a match is found, otherwise False\n",
    "\n",
    "# Assign the static method to a variable for convenience\n",
    "is_strong_password_poo = PasswordValidator.is_strong_password_poo\n",
    "\n"
   ]
  },
  {
   "cell_type": "code",
   "execution_count": 121,
   "metadata": {},
   "outputs": [
    {
     "name": "stderr",
     "output_type": "stream",
     "text": [
      "....................................................................................................\n",
      "----------------------------------------------------------------------\n",
      "Ran 100 tests in 0.217s\n",
      "\n",
      "OK\n"
     ]
    }
   ],
   "source": [
    "test_pass(is_strong_password_poo)"
   ]
  },
  {
   "cell_type": "code",
   "execution_count": 122,
   "metadata": {},
   "outputs": [
    {
     "name": "stderr",
     "output_type": "stream",
     "text": [
      "....................................................................................................\n",
      "----------------------------------------------------------------------\n",
      "Ran 100 tests in 0.251s\n",
      "\n",
      "OK\n"
     ]
    }
   ],
   "source": [
    "\n",
    "\n",
    "# Define a regular expression pattern for a strong password\n",
    "pattern = (\n",
    "    r'^(?=.*[a-z])'                        # At least one lowercase letter\n",
    "    r'(?=.*[A-Z])'                        # At least one uppercase letter\n",
    "    r'(?=.*\\d)'                           # At least one digit\n",
    "    r'(?=.*[#@!$%&()^*[\\]{}])'           # At least one special character\n",
    "    r'.{8,}$'                             # Minimum length of 8 characters\n",
    ")\n",
    "\n",
    "# Define a lambda function to check if a password is strong\n",
    "is_strong_password_funcional = lambda password: bool(re.match(pattern, password))\n",
    "\n",
    "# Test the password validation function (assuming test_pass is defined elsewhere)\n",
    "test_pass(is_strong_password_funcional)\n"
   ]
  },
  {
   "cell_type": "code",
   "execution_count": 123,
   "metadata": {},
   "outputs": [
    {
     "name": "stderr",
     "output_type": "stream",
     "text": [
      "....................................................................................................\n",
      "----------------------------------------------------------------------\n",
      "Ran 100 tests in 0.228s\n",
      "\n",
      "OK\n"
     ]
    }
   ],
   "source": [
    "test_pass(is_strong_password_funcional)"
   ]
  }
 ],
 "metadata": {
  "kernelspec": {
   "display_name": "Python 3 (ipykernel)",
   "language": "python",
   "name": "python3"
  },
  "language_info": {
   "codemirror_mode": {
    "name": "ipython",
    "version": 3
   },
   "file_extension": ".py",
   "mimetype": "text/x-python",
   "name": "python",
   "nbconvert_exporter": "python",
   "pygments_lexer": "ipython3",
   "version": "3.12.4"
  },
  "vscode": {
   "interpreter": {
    "hash": "aee8b7b246df8f9039afb4144a1f6fd8d2ca17a180786b69acc140d282b71a49"
   }
  }
 },
 "nbformat": 4,
 "nbformat_minor": 4
}
